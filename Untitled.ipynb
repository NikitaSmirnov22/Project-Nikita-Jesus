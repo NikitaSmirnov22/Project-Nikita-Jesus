{
 "cells": [
  {
   "cell_type": "code",
   "execution_count": 1,
   "id": "c4ed4603",
   "metadata": {},
   "outputs": [],
   "source": [
    "import mitosheet"
   ]
  },
  {
   "cell_type": "code",
   "execution_count": 2,
   "id": "9b26e6db",
   "metadata": {},
   "outputs": [
    {
     "data": {
      "application/vnd.jupyter.widget-view+json": {
       "model_id": "f89bfa6723354bc2b3d39472a5382f51",
       "version_major": 2,
       "version_minor": 0
      },
      "text/plain": [
       "MitoWidget(analysis_data_json='{\"analysisName\": \"id-lhwetzzqjw\", \"analysisToReplay\": null, \"code\": [], \"stepSu…"
      ]
     },
     "metadata": {},
     "output_type": "display_data"
    }
   ],
   "source": [
    "mitosheet.sheet(analysis_to_replay=\"id-lhwetzzqjw\")"
   ]
  },
  {
   "cell_type": "code",
   "execution_count": null,
   "id": "27de8bb3",
   "metadata": {},
   "outputs": [],
   "source": [
    "from mitosheet import *; register_analysis(\"id-lhwetzzqjw\");\n",
    "    \n",
    "# Imported monday.csv\n",
    "import pandas as pd\n",
    "monday = pd.read_csv(r'/Users/jesus/Desktop/Spiced/random-rose-student-code/Project Markov MC simulation/jesus_nik_project/Project-Nikita-Jesus/data/monday.csv', sep=';')\n",
    "\n",
    "# Imported tuesday.csv\n",
    "import pandas as pd\n",
    "tuesday = pd.read_csv(r'/Users/jesus/Desktop/Spiced/random-rose-student-code/Project Markov MC simulation/jesus_nik_project/Project-Nikita-Jesus/data/tuesday.csv', sep=';')\n",
    "\n",
    "# Imported wednesday.csv\n",
    "import pandas as pd\n",
    "wednesday = pd.read_csv(r'/Users/jesus/Desktop/Spiced/random-rose-student-code/Project Markov MC simulation/jesus_nik_project/Project-Nikita-Jesus/data/wednesday.csv', sep=';')\n",
    "\n",
    "# Imported thursday.csv\n",
    "import pandas as pd\n",
    "thursday = pd.read_csv(r'/Users/jesus/Desktop/Spiced/random-rose-student-code/Project Markov MC simulation/jesus_nik_project/Project-Nikita-Jesus/data/thursday.csv', sep=';')\n",
    "\n",
    "# Imported friday.csv\n",
    "import pandas as pd\n",
    "friday = pd.read_csv(r'/Users/jesus/Desktop/Spiced/random-rose-student-code/Project Markov MC simulation/jesus_nik_project/Project-Nikita-Jesus/data/friday.csv', sep=';')\n",
    "\n",
    "# Pivoted into monday\n",
    "monday_pivot = pd.DataFrame(data={})\n",
    "\n",
    "# Imported tuesday.csv\n",
    "import pandas as pd\n",
    "tuesday_1 = pd.read_csv(r'/Users/jesus/Desktop/Spiced/random-rose-student-code/Project Markov MC simulation/jesus_nik_project/Project-Nikita-Jesus/data/tuesday.csv', sep=';')\n",
    "\n",
    "# Deleted tuesday_1\n",
    "del tuesday_1\n",
    "\n",
    "# Deleted monday_pivot\n",
    "del monday_pivot\n",
    "\n",
    "# Changed timestamp to dtype datetime\n",
    "import pandas as pd\n",
    "monday['timestamp'] = pd.to_datetime(monday['timestamp'], infer_datetime_format=True, errors='coerce')\n",
    "\n",
    "# Changed timestamp to dtype datetime\n",
    "import pandas as pd\n",
    "tuesday['timestamp'] = pd.to_datetime(tuesday['timestamp'], infer_datetime_format=True, errors='coerce')\n",
    "\n",
    "# Changed timestamp to dtype datetime\n",
    "import pandas as pd\n",
    "wednesday['timestamp'] = pd.to_datetime(wednesday['timestamp'], infer_datetime_format=True, errors='coerce')\n",
    "\n",
    "# Changed timestamp to dtype datetime\n",
    "import pandas as pd\n",
    "thursday['timestamp'] = pd.to_datetime(thursday['timestamp'], infer_datetime_format=True, errors='coerce')\n",
    "\n",
    "# Changed timestamp to dtype datetime\n",
    "import pandas as pd\n",
    "friday['timestamp'] = pd.to_datetime(friday['timestamp'], infer_datetime_format=True, errors='coerce')\n",
    "\n",
    "# Pivoted into monday\n",
    "monday_pivot = pd.DataFrame(data={})\n",
    "\n",
    "# Deleted monday_pivot\n",
    "del monday_pivot\n",
    "\n",
    "# Concatenated 5 into dataframes into df6\n",
    "df6 = pd.concat([monday, tuesday, wednesday, thursday, friday], join='inner', ignore_index=True)\n",
    "\n",
    "# Added column new-column-84lt\n",
    "df6.insert(2, 'new-column-84lt', 0)\n",
    "\n",
    "# Renamed columns Revenue per minute\n",
    "df6.rename(columns={'new-column-84lt': 'Revenue per minute'}, inplace=True)\n"
   ]
  }
 ],
 "metadata": {
  "kernelspec": {
   "display_name": "Python 3 (ipykernel)",
   "language": "python",
   "name": "python3"
  },
  "language_info": {
   "codemirror_mode": {
    "name": "ipython",
    "version": 3
   },
   "file_extension": ".py",
   "mimetype": "text/x-python",
   "name": "python",
   "nbconvert_exporter": "python",
   "pygments_lexer": "ipython3",
   "version": "3.10.6"
  }
 },
 "nbformat": 4,
 "nbformat_minor": 5
}
