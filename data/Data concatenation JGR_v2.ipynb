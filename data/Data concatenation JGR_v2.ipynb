{
 "cells": [
  {
   "cell_type": "markdown",
   "metadata": {},
   "source": [
    "\n",
    "**EDA**\n"
   ]
  },
  {
   "cell_type": "code",
   "execution_count": 466,
   "metadata": {},
   "outputs": [],
   "source": [
    "import pandas as pd\n",
    "import numpy as np\n",
    "import mitosheet\n",
    "import seaborn as sns\n",
    "import warnings\n",
    "warnings.filterwarnings(\"ignore\")\n",
    "import matplotlib.pyplot as plt\n",
    "import datetime"
   ]
  },
  {
   "cell_type": "markdown",
   "metadata": {},
   "source": [
    "EDA GOALS:\n",
    "- Calculate the total number of customers in each section. +\n",
    "- Calculate the total number of customers in each section over time. +\n",
    "- Display the number of customers at checkout over time. +\n",
    "- Calculate the time each customer spent in the market.\n",
    "- Calculate the total number of customers in the supermarket over time.\n",
    "- Our business managers think that the first section customers visit follows a different pattern than the following ones. \n",
    "- Plot the distribution of customers of their first visited section versus following sections.\n",
    "- Estimate the total revenue for a customer (section, revenue per minute)"
   ]
  },
  {
   "cell_type": "code",
   "execution_count": 467,
   "metadata": {},
   "outputs": [],
   "source": [
    "# Imported monday.csv\n",
    "monday = pd.read_csv(r'/Users/mac/Desktop/localrepo_project8/Project-Nikita-Jesus/data/monday.csv', sep=';')\n",
    "# Imported tuesday.csv\n",
    "tuesday = pd.read_csv(r'/Users/mac/Desktop/localrepo_project8/Project-Nikita-Jesus/data/tuesday.csv', sep=';')\n",
    "# Imported wednesday.csv\n",
    "wednesday = pd.read_csv(r'/Users/mac/Desktop/localrepo_project8/Project-Nikita-Jesus/data/wednesday.csv', sep=';')\n",
    "# Imported thursday.csv\n",
    "thursday = pd.read_csv(r'/Users/mac/Desktop/localrepo_project8/Project-Nikita-Jesus/data/thursday.csv', sep=';')\n",
    "# Imported friday.csv\n",
    "friday = pd.read_csv(r'/Users/mac/Desktop/localrepo_project8/Project-Nikita-Jesus/data/friday.csv', sep=';')\n",
    "    \n",
    "# Changed timestamp to dtype datetime\n",
    "monday['customer_no']=monday['customer_no'].apply(lambda x: str(x)+'_monday')\n",
    "# Changed timestamp to dtype datetime\n",
    "tuesday['customer_no']=tuesday['customer_no'].apply(lambda x: str(x)+'_tuesday')\n",
    "# Changed timestamp to dtype datetime\n",
    "wednesday['customer_no']=wednesday['customer_no'].apply(lambda x: str(x)+'_wednesday')\n",
    "# Changed timestamp to dtype datetime\n",
    "thursday['customer_no']=thursday['customer_no'].apply(lambda x: str(x)+'_thursday')\n",
    "# Changed timestamp to dtype datetime\n",
    "#friday['customer_no'] = friday['customer_no']+8000\n",
    "#friday['customer_no'] = friday['customer_no'].astype(str)\n",
    "friday['customer_no']=friday['customer_no'].apply(lambda x: str(x)+'_friday')\n",
    "# Concatenated 5 into dataframes into df\n",
    "df = pd.concat([monday, tuesday, wednesday, thursday, friday], join='inner', ignore_index=True)\n",
    "\n",
    "\n",
    "#datetime_series = pd.to_datetime(df['timestamp'])\n",
    "#datetime_index = pd.DatetimeIndex(datetime_series.values)\n",
    "#df=df.set_index(datetime_index)\n",
    "#df.drop('timestamp',axis=1,inplace=True)\n",
    "\n",
    "df[\"timestamp\"] = pd.to_datetime(df[\"timestamp\"])\n",
    "df[\"hour\"] = df[\"timestamp\"].dt.hour\n",
    "df[\"time\"] = df[\"timestamp\"].dt.time\n",
    "df.set_index(\"timestamp\",inplace=True)"
   ]
  },
  {
   "cell_type": "code",
   "execution_count": 468,
   "metadata": {},
   "outputs": [
    {
     "data": {
      "text/html": [
       "<div><div id=7c2e5824-3ae5-4402-9611-e403f9cdb655 style=\"display:none; background-color:#9D6CFF; color:white; width:200px; height:30px; padding-left:5px; border-radius:4px; flex-direction:row; justify-content:space-around; align-items:center;\" onmouseover=\"this.style.backgroundColor='#BA9BF8'\" onmouseout=\"this.style.backgroundColor='#9D6CFF'\" onclick=\"window.commands?.execute('create-mitosheet-from-dataframe-output');\">See Full Dataframe in Mito</div> <script> if (window.commands?.hasCommand('create-mitosheet-from-dataframe-output')) document.getElementById('7c2e5824-3ae5-4402-9611-e403f9cdb655').style.display = 'flex' </script> <table border=\"1\" class=\"dataframe\">\n",
       "  <thead>\n",
       "    <tr style=\"text-align: right;\">\n",
       "      <th></th>\n",
       "      <th>customer_no</th>\n",
       "      <th>location</th>\n",
       "      <th>hour</th>\n",
       "      <th>time</th>\n",
       "    </tr>\n",
       "    <tr>\n",
       "      <th>timestamp</th>\n",
       "      <th></th>\n",
       "      <th></th>\n",
       "      <th></th>\n",
       "      <th></th>\n",
       "    </tr>\n",
       "  </thead>\n",
       "  <tbody>\n",
       "    <tr>\n",
       "      <th>2019-09-02 07:03:00</th>\n",
       "      <td>1_monday</td>\n",
       "      <td>dairy</td>\n",
       "      <td>7</td>\n",
       "      <td>07:03:00</td>\n",
       "    </tr>\n",
       "    <tr>\n",
       "      <th>2019-09-02 07:03:00</th>\n",
       "      <td>2_monday</td>\n",
       "      <td>dairy</td>\n",
       "      <td>7</td>\n",
       "      <td>07:03:00</td>\n",
       "    </tr>\n",
       "    <tr>\n",
       "      <th>2019-09-02 07:04:00</th>\n",
       "      <td>3_monday</td>\n",
       "      <td>dairy</td>\n",
       "      <td>7</td>\n",
       "      <td>07:04:00</td>\n",
       "    </tr>\n",
       "    <tr>\n",
       "      <th>2019-09-02 07:04:00</th>\n",
       "      <td>4_monday</td>\n",
       "      <td>dairy</td>\n",
       "      <td>7</td>\n",
       "      <td>07:04:00</td>\n",
       "    </tr>\n",
       "    <tr>\n",
       "      <th>2019-09-02 07:04:00</th>\n",
       "      <td>5_monday</td>\n",
       "      <td>spices</td>\n",
       "      <td>7</td>\n",
       "      <td>07:04:00</td>\n",
       "    </tr>\n",
       "    <tr>\n",
       "      <th>...</th>\n",
       "      <td>...</td>\n",
       "      <td>...</td>\n",
       "      <td>...</td>\n",
       "      <td>...</td>\n",
       "    </tr>\n",
       "    <tr>\n",
       "      <th>2019-09-06 21:50:00</th>\n",
       "      <td>1500_friday</td>\n",
       "      <td>dairy</td>\n",
       "      <td>21</td>\n",
       "      <td>21:50:00</td>\n",
       "    </tr>\n",
       "    <tr>\n",
       "      <th>2019-09-06 21:50:00</th>\n",
       "      <td>1507_friday</td>\n",
       "      <td>checkout</td>\n",
       "      <td>21</td>\n",
       "      <td>21:50:00</td>\n",
       "    </tr>\n",
       "    <tr>\n",
       "      <th>2019-09-06 21:50:00</th>\n",
       "      <td>1508_friday</td>\n",
       "      <td>checkout</td>\n",
       "      <td>21</td>\n",
       "      <td>21:50:00</td>\n",
       "    </tr>\n",
       "    <tr>\n",
       "      <th>2019-09-06 21:50:00</th>\n",
       "      <td>1509_friday</td>\n",
       "      <td>drinks</td>\n",
       "      <td>21</td>\n",
       "      <td>21:50:00</td>\n",
       "    </tr>\n",
       "    <tr>\n",
       "      <th>2019-09-06 21:50:00</th>\n",
       "      <td>1510_friday</td>\n",
       "      <td>spices</td>\n",
       "      <td>21</td>\n",
       "      <td>21:50:00</td>\n",
       "    </tr>\n",
       "  </tbody>\n",
       "</table></div>"
      ],
      "text/plain": [
       "                     customer_no  location  hour      time\n",
       "timestamp                                                 \n",
       "2019-09-02 07:03:00     1_monday     dairy     7  07:03:00\n",
       "2019-09-02 07:03:00     2_monday     dairy     7  07:03:00\n",
       "2019-09-02 07:04:00     3_monday     dairy     7  07:04:00\n",
       "2019-09-02 07:04:00     4_monday     dairy     7  07:04:00\n",
       "2019-09-02 07:04:00     5_monday    spices     7  07:04:00\n",
       "...                          ...       ...   ...       ...\n",
       "2019-09-06 21:50:00  1500_friday     dairy    21  21:50:00\n",
       "2019-09-06 21:50:00  1507_friday  checkout    21  21:50:00\n",
       "2019-09-06 21:50:00  1508_friday  checkout    21  21:50:00\n",
       "2019-09-06 21:50:00  1509_friday    drinks    21  21:50:00\n",
       "2019-09-06 21:50:00  1510_friday    spices    21  21:50:00\n",
       "\n",
       "[24877 rows x 4 columns]"
      ]
     },
     "execution_count": 468,
     "metadata": {},
     "output_type": "execute_result"
    }
   ],
   "source": [
    "df"
   ]
  },
  {
   "cell_type": "code",
   "execution_count": 469,
   "metadata": {},
   "outputs": [
    {
     "name": "stdout",
     "output_type": "stream",
     "text": [
      "<class 'pandas.core.frame.DataFrame'>\n",
      "DatetimeIndex: 24877 entries, 2019-09-02 07:03:00 to 2019-09-06 21:50:00\n",
      "Data columns (total 4 columns):\n",
      " #   Column       Non-Null Count  Dtype \n",
      "---  ------       --------------  ----- \n",
      " 0   customer_no  24877 non-null  object\n",
      " 1   location     24877 non-null  object\n",
      " 2   hour         24877 non-null  int64 \n",
      " 3   time         24877 non-null  object\n",
      "dtypes: int64(1), object(3)\n",
      "memory usage: 971.8+ KB\n"
     ]
    }
   ],
   "source": [
    "df.info()"
   ]
  },
  {
   "cell_type": "code",
   "execution_count": 470,
   "metadata": {},
   "outputs": [
    {
     "data": {
      "text/html": [
       "<div><div id=b6900619-58cf-449d-87cd-e12ad03c9ead style=\"display:none; background-color:#9D6CFF; color:white; width:200px; height:30px; padding-left:5px; border-radius:4px; flex-direction:row; justify-content:space-around; align-items:center;\" onmouseover=\"this.style.backgroundColor='#BA9BF8'\" onmouseout=\"this.style.backgroundColor='#9D6CFF'\" onclick=\"window.commands?.execute('create-mitosheet-from-dataframe-output');\">See Full Dataframe in Mito</div> <script> if (window.commands?.hasCommand('create-mitosheet-from-dataframe-output')) document.getElementById('b6900619-58cf-449d-87cd-e12ad03c9ead').style.display = 'flex' </script> <table border=\"1\" class=\"dataframe\">\n",
       "  <thead>\n",
       "    <tr style=\"text-align: right;\">\n",
       "      <th></th>\n",
       "      <th>customer_no</th>\n",
       "      <th>location</th>\n",
       "      <th>hour</th>\n",
       "      <th>time</th>\n",
       "    </tr>\n",
       "    <tr>\n",
       "      <th>timestamp</th>\n",
       "      <th></th>\n",
       "      <th></th>\n",
       "      <th></th>\n",
       "      <th></th>\n",
       "    </tr>\n",
       "  </thead>\n",
       "  <tbody>\n",
       "    <tr>\n",
       "      <th>2019-09-02 07:03:00</th>\n",
       "      <td>1_monday</td>\n",
       "      <td>dairy</td>\n",
       "      <td>7</td>\n",
       "      <td>07:03:00</td>\n",
       "    </tr>\n",
       "    <tr>\n",
       "      <th>2019-09-02 07:03:00</th>\n",
       "      <td>2_monday</td>\n",
       "      <td>dairy</td>\n",
       "      <td>7</td>\n",
       "      <td>07:03:00</td>\n",
       "    </tr>\n",
       "    <tr>\n",
       "      <th>2019-09-02 07:04:00</th>\n",
       "      <td>3_monday</td>\n",
       "      <td>dairy</td>\n",
       "      <td>7</td>\n",
       "      <td>07:04:00</td>\n",
       "    </tr>\n",
       "    <tr>\n",
       "      <th>2019-09-02 07:04:00</th>\n",
       "      <td>4_monday</td>\n",
       "      <td>dairy</td>\n",
       "      <td>7</td>\n",
       "      <td>07:04:00</td>\n",
       "    </tr>\n",
       "    <tr>\n",
       "      <th>2019-09-02 07:04:00</th>\n",
       "      <td>5_monday</td>\n",
       "      <td>spices</td>\n",
       "      <td>7</td>\n",
       "      <td>07:04:00</td>\n",
       "    </tr>\n",
       "    <tr>\n",
       "      <th>...</th>\n",
       "      <td>...</td>\n",
       "      <td>...</td>\n",
       "      <td>...</td>\n",
       "      <td>...</td>\n",
       "    </tr>\n",
       "    <tr>\n",
       "      <th>2019-09-06 21:50:00</th>\n",
       "      <td>1500_friday</td>\n",
       "      <td>dairy</td>\n",
       "      <td>21</td>\n",
       "      <td>21:50:00</td>\n",
       "    </tr>\n",
       "    <tr>\n",
       "      <th>2019-09-06 21:50:00</th>\n",
       "      <td>1507_friday</td>\n",
       "      <td>checkout</td>\n",
       "      <td>21</td>\n",
       "      <td>21:50:00</td>\n",
       "    </tr>\n",
       "    <tr>\n",
       "      <th>2019-09-06 21:50:00</th>\n",
       "      <td>1508_friday</td>\n",
       "      <td>checkout</td>\n",
       "      <td>21</td>\n",
       "      <td>21:50:00</td>\n",
       "    </tr>\n",
       "    <tr>\n",
       "      <th>2019-09-06 21:50:00</th>\n",
       "      <td>1509_friday</td>\n",
       "      <td>drinks</td>\n",
       "      <td>21</td>\n",
       "      <td>21:50:00</td>\n",
       "    </tr>\n",
       "    <tr>\n",
       "      <th>2019-09-06 21:50:00</th>\n",
       "      <td>1510_friday</td>\n",
       "      <td>spices</td>\n",
       "      <td>21</td>\n",
       "      <td>21:50:00</td>\n",
       "    </tr>\n",
       "  </tbody>\n",
       "</table></div>"
      ],
      "text/plain": [
       "                     customer_no  location  hour      time\n",
       "timestamp                                                 \n",
       "2019-09-02 07:03:00     1_monday     dairy     7  07:03:00\n",
       "2019-09-02 07:03:00     2_monday     dairy     7  07:03:00\n",
       "2019-09-02 07:04:00     3_monday     dairy     7  07:04:00\n",
       "2019-09-02 07:04:00     4_monday     dairy     7  07:04:00\n",
       "2019-09-02 07:04:00     5_monday    spices     7  07:04:00\n",
       "...                          ...       ...   ...       ...\n",
       "2019-09-06 21:50:00  1500_friday     dairy    21  21:50:00\n",
       "2019-09-06 21:50:00  1507_friday  checkout    21  21:50:00\n",
       "2019-09-06 21:50:00  1508_friday  checkout    21  21:50:00\n",
       "2019-09-06 21:50:00  1509_friday    drinks    21  21:50:00\n",
       "2019-09-06 21:50:00  1510_friday    spices    21  21:50:00\n",
       "\n",
       "[24877 rows x 4 columns]"
      ]
     },
     "execution_count": 470,
     "metadata": {},
     "output_type": "execute_result"
    }
   ],
   "source": [
    "df"
   ]
  },
  {
   "cell_type": "code",
   "execution_count": 471,
   "metadata": {},
   "outputs": [
    {
     "data": {
      "text/html": [
       "<div><div id=177eecbb-85c6-4330-bc05-4e0a714e88bd style=\"display:none; background-color:#9D6CFF; color:white; width:200px; height:30px; padding-left:5px; border-radius:4px; flex-direction:row; justify-content:space-around; align-items:center;\" onmouseover=\"this.style.backgroundColor='#BA9BF8'\" onmouseout=\"this.style.backgroundColor='#9D6CFF'\" onclick=\"window.commands?.execute('create-mitosheet-from-dataframe-output');\">See Full Dataframe in Mito</div> <script> if (window.commands?.hasCommand('create-mitosheet-from-dataframe-output')) document.getElementById('177eecbb-85c6-4330-bc05-4e0a714e88bd').style.display = 'flex' </script> <table border=\"1\" class=\"dataframe\">\n",
       "  <thead>\n",
       "    <tr style=\"text-align: right;\">\n",
       "      <th></th>\n",
       "      <th>customer_no</th>\n",
       "      <th>location</th>\n",
       "      <th>hour</th>\n",
       "      <th>time</th>\n",
       "      <th>timestamp</th>\n",
       "    </tr>\n",
       "  </thead>\n",
       "  <tbody>\n",
       "    <tr>\n",
       "      <th>24877</th>\n",
       "      <td>1437_monday</td>\n",
       "      <td>checkout</td>\n",
       "      <td>NaN</td>\n",
       "      <td>NaN</td>\n",
       "      <td>2019-09-02 22:00:00</td>\n",
       "    </tr>\n",
       "    <tr>\n",
       "      <th>24878</th>\n",
       "      <td>1430_monday</td>\n",
       "      <td>checkout</td>\n",
       "      <td>NaN</td>\n",
       "      <td>NaN</td>\n",
       "      <td>2019-09-02 22:00:00</td>\n",
       "    </tr>\n",
       "    <tr>\n",
       "      <th>24879</th>\n",
       "      <td>1433_monday</td>\n",
       "      <td>checkout</td>\n",
       "      <td>NaN</td>\n",
       "      <td>NaN</td>\n",
       "      <td>2019-09-02 22:00:00</td>\n",
       "    </tr>\n",
       "    <tr>\n",
       "      <th>24880</th>\n",
       "      <td>1506_friday</td>\n",
       "      <td>checkout</td>\n",
       "      <td>NaN</td>\n",
       "      <td>NaN</td>\n",
       "      <td>2019-09-02 22:00:00</td>\n",
       "    </tr>\n",
       "    <tr>\n",
       "      <th>24881</th>\n",
       "      <td>1422_tuesday</td>\n",
       "      <td>checkout</td>\n",
       "      <td>NaN</td>\n",
       "      <td>NaN</td>\n",
       "      <td>2019-09-02 22:00:00</td>\n",
       "    </tr>\n",
       "    <tr>\n",
       "      <th>...</th>\n",
       "      <td>...</td>\n",
       "      <td>...</td>\n",
       "      <td>...</td>\n",
       "      <td>...</td>\n",
       "      <td>...</td>\n",
       "    </tr>\n",
       "    <tr>\n",
       "      <th>24900</th>\n",
       "      <td>1532_thursday</td>\n",
       "      <td>checkout</td>\n",
       "      <td>NaN</td>\n",
       "      <td>NaN</td>\n",
       "      <td>2019-09-02 22:00:00</td>\n",
       "    </tr>\n",
       "    <tr>\n",
       "      <th>24901</th>\n",
       "      <td>1440_monday</td>\n",
       "      <td>checkout</td>\n",
       "      <td>NaN</td>\n",
       "      <td>NaN</td>\n",
       "      <td>2019-09-02 22:00:00</td>\n",
       "    </tr>\n",
       "    <tr>\n",
       "      <th>24902</th>\n",
       "      <td>1533_thursday</td>\n",
       "      <td>checkout</td>\n",
       "      <td>NaN</td>\n",
       "      <td>NaN</td>\n",
       "      <td>2019-09-02 22:00:00</td>\n",
       "    </tr>\n",
       "    <tr>\n",
       "      <th>24903</th>\n",
       "      <td>1411_tuesday</td>\n",
       "      <td>checkout</td>\n",
       "      <td>NaN</td>\n",
       "      <td>NaN</td>\n",
       "      <td>2019-09-02 22:00:00</td>\n",
       "    </tr>\n",
       "    <tr>\n",
       "      <th>24904</th>\n",
       "      <td>1530_wednesday</td>\n",
       "      <td>checkout</td>\n",
       "      <td>NaN</td>\n",
       "      <td>NaN</td>\n",
       "      <td>2019-09-02 22:00:00</td>\n",
       "    </tr>\n",
       "  </tbody>\n",
       "</table></div>"
      ],
      "text/plain": [
       "          customer_no  location  hour time            timestamp\n",
       "24877     1437_monday  checkout   NaN  NaN  2019-09-02 22:00:00\n",
       "24878     1430_monday  checkout   NaN  NaN  2019-09-02 22:00:00\n",
       "24879     1433_monday  checkout   NaN  NaN  2019-09-02 22:00:00\n",
       "24880     1506_friday  checkout   NaN  NaN  2019-09-02 22:00:00\n",
       "24881    1422_tuesday  checkout   NaN  NaN  2019-09-02 22:00:00\n",
       "24882     1509_friday  checkout   NaN  NaN  2019-09-02 22:00:00\n",
       "24883     1496_friday  checkout   NaN  NaN  2019-09-02 22:00:00\n",
       "24884     1447_monday  checkout   NaN  NaN  2019-09-02 22:00:00\n",
       "24885  1527_wednesday  checkout   NaN  NaN  2019-09-02 22:00:00\n",
       "24886     1445_monday  checkout   NaN  NaN  2019-09-02 22:00:00\n",
       "24887   1527_thursday  checkout   NaN  NaN  2019-09-02 22:00:00\n",
       "24888     1500_friday  checkout   NaN  NaN  2019-09-02 22:00:00\n",
       "24889     1439_monday  checkout   NaN  NaN  2019-09-02 22:00:00\n",
       "24890     1443_monday  checkout   NaN  NaN  2019-09-02 22:00:00\n",
       "24891  1520_wednesday  checkout   NaN  NaN  2019-09-02 22:00:00\n",
       "24892     1510_friday  checkout   NaN  NaN  2019-09-02 22:00:00\n",
       "24893     1446_monday  checkout   NaN  NaN  2019-09-02 22:00:00\n",
       "24894     1505_friday  checkout   NaN  NaN  2019-09-02 22:00:00\n",
       "24895  1529_wednesday  checkout   NaN  NaN  2019-09-02 22:00:00\n",
       "24896     1441_monday  checkout   NaN  NaN  2019-09-02 22:00:00\n",
       "24897  1528_wednesday  checkout   NaN  NaN  2019-09-02 22:00:00\n",
       "24898     1503_friday  checkout   NaN  NaN  2019-09-02 22:00:00\n",
       "24899     1494_friday  checkout   NaN  NaN  2019-09-02 22:00:00\n",
       "24900   1532_thursday  checkout   NaN  NaN  2019-09-02 22:00:00\n",
       "24901     1440_monday  checkout   NaN  NaN  2019-09-02 22:00:00\n",
       "24902   1533_thursday  checkout   NaN  NaN  2019-09-02 22:00:00\n",
       "24903    1411_tuesday  checkout   NaN  NaN  2019-09-02 22:00:00\n",
       "24904  1530_wednesday  checkout   NaN  NaN  2019-09-02 22:00:00"
      ]
     },
     "execution_count": 471,
     "metadata": {},
     "output_type": "execute_result"
    }
   ],
   "source": [
    "#missing customers from checkout\n",
    "checkout=set(df[df['location']=='checkout']['customer_no'].unique())\n",
    "all_customers=set(df['customer_no'].unique())\n",
    "difference=all_customers.difference(checkout)\n",
    "for customers in difference:\n",
    "    df=df.append({'timestamp':'2019-09-02 22:00:00','customer_no':customers,'location':'checkout'}, ignore_index=True)\n",
    "df[df['timestamp']=='2019-09-02 22:00:00']\n"
   ]
  },
  {
   "cell_type": "code",
   "execution_count": 472,
   "metadata": {},
   "outputs": [
    {
     "data": {
      "text/plain": [
       "Text(0.5, 1.0, 'Customer distribution by location')"
      ]
     },
     "execution_count": 472,
     "metadata": {},
     "output_type": "execute_result"
    },
    {
     "data": {
      "image/png": "[encoded data removed]",
      "text/plain": [
       "<Figure size 432x288 with 1 Axes>"
      ]
     },
     "metadata": {
      "needs_background": "light"
     },
     "output_type": "display_data"
    }
   ],
   "source": [
    "#barplot - Customer distribution by location\n",
    "\n",
    "df.groupby(['location'])['customer_no'].count().plot.barh()\n",
    "plt.title('Customer distribution by location')\n"
   ]
  },
  {
   "cell_type": "code",
   "execution_count": 477,
   "metadata": {},
   "outputs": [
    {
     "data": {
      "text/plain": [
       "Text(0.5, 1.0, '% of customers per section')"
      ]
     },
     "execution_count": 477,
     "metadata": {},
     "output_type": "execute_result"
    },
    {
     "data": {
      "image/png": "[encoded data removed]",
      "text/plain": [
       "<Figure size 432x288 with 1 Axes>"
      ]
     },
     "metadata": {
      "needs_background": "light"
     },
     "output_type": "display_data"
    }
   ],
   "source": [
    "#barplot - Percentage of customers per section\n",
    "cust_per_aile=df[df['location']!='checkout'].groupby(['location'])['customer_no'].count()\n",
    "cust_total=df[df['location']=='checkout'].groupby(['location'])['customer_no'].count()\n",
    "perc_cust=pd.to_numeric(cust_per_aile.values)/pd.to_numeric(cust_total.values)*100\n",
    "p=pd.concat([pd.DataFrame(perc_cust),pd.DataFrame(pd.unique(df['location'][df['location']!='checkout']))], axis=1)\n",
    "p.columns=['perc','location']\n",
    "p.set_index(\"location\", inplace=True)\n",
    "p.plot.barh()\n",
    "plt.title('% of customers per section')"
   ]
  },
  {
   "cell_type": "code",
   "execution_count": 478,
   "metadata": {},
   "outputs": [
    {
     "data": {
      "text/plain": [
       "<seaborn.axisgrid.FacetGrid at 0x7ff179c61280>"
      ]
     },
     "execution_count": 478,
     "metadata": {},
     "output_type": "execute_result"
    },
    {
     "data": {
      "image/png": "[encoded data removed]",
      "text/plain": [
       "<Figure size 441.125x360 with 1 Axes>"
      ]
     },
     "metadata": {
      "needs_background": "light"
     },
     "output_type": "display_data"
    }
   ],
   "source": [
    "#barplot - number of customers in each section over time\n",
    "total_customers_time = pd.DataFrame(df.groupby([\"location\",\"hour\"])[\"customer_no\"].nunique())\n",
    "total_customers_time.reset_index(inplace=True)\n",
    "sns.relplot(x=\"hour\", y=\"customer_no\", hue=\"location\", kind=\"line\", data=total_customers_time)"
   ]
  },
  {
   "cell_type": "code",
   "execution_count": 480,
   "metadata": {},
   "outputs": [
    {
     "ename": "TypeError",
     "evalue": "Only valid with DatetimeIndex, TimedeltaIndex or PeriodIndex, but got an instance of 'Int64Index'",
     "output_type": "error",
     "traceback": [
      "\u001b[0;31m---------------------------------------------------------------------------\u001b[0m",
      "\u001b[0;31mTypeError\u001b[0m                                 Traceback (most recent call last)",
      "Input \u001b[0;32mIn [480]\u001b[0m, in \u001b[0;36m<cell line: 2>\u001b[0;34m()\u001b[0m\n\u001b[1;32m      1\u001b[0m \u001b[38;5;66;03m#Customer behavior at diffrent hours of the day\u001b[39;00m\n\u001b[0;32m----> 2\u001b[0m \u001b[43mdf\u001b[49m\u001b[43m[\u001b[49m\u001b[43mdf\u001b[49m\u001b[43m[\u001b[49m\u001b[38;5;124;43m'\u001b[39;49m\u001b[38;5;124;43mlocation\u001b[39;49m\u001b[38;5;124;43m'\u001b[39;49m\u001b[43m]\u001b[49m\u001b[38;5;241;43m!=\u001b[39;49m\u001b[38;5;124;43m\"\u001b[39;49m\u001b[38;5;124;43mcheckout\u001b[39;49m\u001b[38;5;124;43m\"\u001b[39;49m\u001b[43m]\u001b[49m\u001b[38;5;241;43m.\u001b[39;49m\u001b[43mgroupby\u001b[49m\u001b[43m(\u001b[49m\u001b[38;5;124;43m'\u001b[39;49m\u001b[38;5;124;43mlocation\u001b[39;49m\u001b[38;5;124;43m'\u001b[39;49m\u001b[43m)\u001b[49m\u001b[38;5;241;43m.\u001b[39;49m\u001b[43mresample\u001b[49m\u001b[43m(\u001b[49m\u001b[38;5;124;43m\"\u001b[39;49m\u001b[38;5;124;43m30T\u001b[39;49m\u001b[38;5;124;43m\"\u001b[39;49m\u001b[43m)\u001b[49m\u001b[38;5;241m.\u001b[39mnunique()[\u001b[38;5;124m'\u001b[39m\u001b[38;5;124mcustomer_no\u001b[39m\u001b[38;5;124m'\u001b[39m]\u001b[38;5;241m.\u001b[39munstack()\u001b[38;5;241m.\u001b[39mplot(legend\u001b[38;5;241m=\u001b[39m\u001b[38;5;28;01mFalse\u001b[39;00m)\n\u001b[1;32m      3\u001b[0m plt\u001b[38;5;241m.\u001b[39mtitle(\u001b[38;5;124m\"\u001b[39m\u001b[38;5;124mcustomer behavior at different hours of the day\u001b[39m\u001b[38;5;124m\"\u001b[39m)\n",
      "File \u001b[0;32m/opt/anaconda3/lib/python3.9/site-packages/pandas/core/groupby/groupby.py:2417\u001b[0m, in \u001b[0;36mGroupBy.resample\u001b[0;34m(self, rule, *args, **kwargs)\u001b[0m\n\u001b[1;32m   2319\u001b[0m \u001b[38;5;124;03m\"\"\"\u001b[39;00m\n\u001b[1;32m   2320\u001b[0m \u001b[38;5;124;03mProvide resampling when using a TimeGrouper.\u001b[39;00m\n\u001b[1;32m   2321\u001b[0m \n\u001b[0;32m   (...)\u001b[0m\n\u001b[1;32m   2413\u001b[0m \u001b[38;5;124;03m5   2000-01-01 00:03:00  5  1\u001b[39;00m\n\u001b[1;32m   2414\u001b[0m \u001b[38;5;124;03m\"\"\"\u001b[39;00m\n\u001b[1;32m   2415\u001b[0m \u001b[38;5;28;01mfrom\u001b[39;00m \u001b[38;5;21;01mpandas\u001b[39;00m\u001b[38;5;21;01m.\u001b[39;00m\u001b[38;5;21;01mcore\u001b[39;00m\u001b[38;5;21;01m.\u001b[39;00m\u001b[38;5;21;01mresample\u001b[39;00m \u001b[38;5;28;01mimport\u001b[39;00m get_resampler_for_grouping\n\u001b[0;32m-> 2417\u001b[0m \u001b[38;5;28;01mreturn\u001b[39;00m \u001b[43mget_resampler_for_grouping\u001b[49m\u001b[43m(\u001b[49m\u001b[38;5;28;43mself\u001b[39;49m\u001b[43m,\u001b[49m\u001b[43m \u001b[49m\u001b[43mrule\u001b[49m\u001b[43m,\u001b[49m\u001b[43m \u001b[49m\u001b[38;5;241;43m*\u001b[39;49m\u001b[43margs\u001b[49m\u001b[43m,\u001b[49m\u001b[43m \u001b[49m\u001b[38;5;241;43m*\u001b[39;49m\u001b[38;5;241;43m*\u001b[39;49m\u001b[43mkwargs\u001b[49m\u001b[43m)\u001b[49m\n",
      "File \u001b[0;32m/opt/anaconda3/lib/python3.9/site-packages/pandas/core/resample.py:1437\u001b[0m, in \u001b[0;36mget_resampler_for_grouping\u001b[0;34m(groupby, rule, how, fill_method, limit, kind, on, **kwargs)\u001b[0m\n\u001b[1;32m   1435\u001b[0m \u001b[38;5;66;03m# .resample uses 'on' similar to how .groupby uses 'key'\u001b[39;00m\n\u001b[1;32m   1436\u001b[0m tg \u001b[38;5;241m=\u001b[39m TimeGrouper(freq\u001b[38;5;241m=\u001b[39mrule, key\u001b[38;5;241m=\u001b[39mon, \u001b[38;5;241m*\u001b[39m\u001b[38;5;241m*\u001b[39mkwargs)\n\u001b[0;32m-> 1437\u001b[0m resampler \u001b[38;5;241m=\u001b[39m \u001b[43mtg\u001b[49m\u001b[38;5;241;43m.\u001b[39;49m\u001b[43m_get_resampler\u001b[49m\u001b[43m(\u001b[49m\u001b[43mgroupby\u001b[49m\u001b[38;5;241;43m.\u001b[39;49m\u001b[43mobj\u001b[49m\u001b[43m,\u001b[49m\u001b[43m \u001b[49m\u001b[43mkind\u001b[49m\u001b[38;5;241;43m=\u001b[39;49m\u001b[43mkind\u001b[49m\u001b[43m)\u001b[49m\n\u001b[1;32m   1438\u001b[0m \u001b[38;5;28;01mreturn\u001b[39;00m resampler\u001b[38;5;241m.\u001b[39m_get_resampler_for_grouping(groupby\u001b[38;5;241m=\u001b[39mgroupby)\n",
      "File \u001b[0;32m/opt/anaconda3/lib/python3.9/site-packages/pandas/core/resample.py:1599\u001b[0m, in \u001b[0;36mTimeGrouper._get_resampler\u001b[0;34m(self, obj, kind)\u001b[0m\n\u001b[1;32m   1596\u001b[0m \u001b[38;5;28;01melif\u001b[39;00m \u001b[38;5;28misinstance\u001b[39m(ax, TimedeltaIndex):\n\u001b[1;32m   1597\u001b[0m     \u001b[38;5;28;01mreturn\u001b[39;00m TimedeltaIndexResampler(obj, groupby\u001b[38;5;241m=\u001b[39m\u001b[38;5;28mself\u001b[39m, axis\u001b[38;5;241m=\u001b[39m\u001b[38;5;28mself\u001b[39m\u001b[38;5;241m.\u001b[39maxis)\n\u001b[0;32m-> 1599\u001b[0m \u001b[38;5;28;01mraise\u001b[39;00m \u001b[38;5;167;01mTypeError\u001b[39;00m(\n\u001b[1;32m   1600\u001b[0m     \u001b[38;5;124m\"\u001b[39m\u001b[38;5;124mOnly valid with DatetimeIndex, \u001b[39m\u001b[38;5;124m\"\u001b[39m\n\u001b[1;32m   1601\u001b[0m     \u001b[38;5;124m\"\u001b[39m\u001b[38;5;124mTimedeltaIndex or PeriodIndex, \u001b[39m\u001b[38;5;124m\"\u001b[39m\n\u001b[1;32m   1602\u001b[0m     \u001b[38;5;124mf\u001b[39m\u001b[38;5;124m\"\u001b[39m\u001b[38;5;124mbut got an instance of \u001b[39m\u001b[38;5;124m'\u001b[39m\u001b[38;5;132;01m{\u001b[39;00m\u001b[38;5;28mtype\u001b[39m(ax)\u001b[38;5;241m.\u001b[39m\u001b[38;5;18m__name__\u001b[39m\u001b[38;5;132;01m}\u001b[39;00m\u001b[38;5;124m'\u001b[39m\u001b[38;5;124m\"\u001b[39m\n\u001b[1;32m   1603\u001b[0m )\n",
      "\u001b[0;31mTypeError\u001b[0m: Only valid with DatetimeIndex, TimedeltaIndex or PeriodIndex, but got an instance of 'Int64Index'"
     ]
    }
   ],
   "source": [
    "#Customer behavior at diffrent hours of the day\n",
    "df[df['location']!=\"checkout\"].groupby('location').resample(\"30T\").nunique()['customer_no'].unstack().plot(legend=False)\n",
    "plt.title(\"customer behavior at different hours of the day\")"
   ]
  },
  {
   "cell_type": "code",
   "execution_count": null,
   "metadata": {},
   "outputs": [],
   "source": [
    "df.reset_index(inplace=True)\n",
    "df[df['location']==\"checkout\"].groupby(\"location\").resample(\"15T\").nunique()['customer_no'].reset_index().set_index(\"timestamp\").plot()\n",
    "plt.title(\"Amount of people at the checkout in an 15mins interval\")"
   ]
  },
  {
   "cell_type": "code",
   "execution_count": null,
   "metadata": {},
   "outputs": [],
   "source": [
    "df['diff'] = df.sort_values(['customer_no','timestamp']).groupby('customer_no')['timestamp'].diff()\n",
    "df[df['diff'].notnull()][['customer_no','diff']].groupby('diff').nunique()['customer_no'].reset_index().set_index('diff').plot.bar()\n",
    "plt.tite('How much time do customers spend in the market?')"
   ]
  },
  {
   "cell_type": "code",
   "execution_count": null,
   "metadata": {},
   "outputs": [],
   "source": [
    "# Amount spent by each customer\n",
    "df[df[\"diff\"].notnull()][[\"customer_no\",\"diff\"]]"
   ]
  },
  {
   "cell_type": "code",
   "execution_count": null,
   "metadata": {},
   "outputs": [],
   "source": [
    "df.resample(\"15T\").nunique()[\"customer_no\"].plot()\n",
    "plt.title(\"Total customer numbers inside the market over time\")"
   ]
  },
  {
   "cell_type": "code",
   "execution_count": null,
   "metadata": {},
   "outputs": [],
   "source": [
    "df[\"customer_no\"].nunique()\n",
    "#1535 unique customers = max. nr of customers in a day"
   ]
  },
  {
   "cell_type": "code",
   "execution_count": null,
   "metadata": {},
   "outputs": [],
   "source": []
  },
  {
   "cell_type": "code",
   "execution_count": null,
   "metadata": {},
   "outputs": [],
   "source": []
  },
  {
   "cell_type": "code",
   "execution_count": 455,
   "metadata": {},
   "outputs": [
    {
     "data": {
      "text/plain": [
       "3754"
      ]
     },
     "execution_count": 455,
     "metadata": {},
     "output_type": "execute_result"
    }
   ],
   "source": [
    "df = pd.get_dummies(df, columns=['location'])\n",
    "df['location_checkout'].sum()\n",
    "df['location_dairy'].sum()\n",
    "df['location_drinks'].sum()\n",
    "df['location_fruit'].sum()\n",
    "df['location_spices'].sum()"
   ]
  },
  {
   "cell_type": "code",
   "execution_count": 456,
   "metadata": {},
   "outputs": [],
   "source": [
    "# #missing customers from checkout\n",
    "# checkout=set(data[data[\"location\"]==\"checkout\"][\"customer_no\"].unique())\n",
    "# all_c=set(data[\"customer_no\"].unique())\n",
    "# diff=all_c.difference(checkout)\n",
    "# for cust in diff:\n",
    "#                data=data.append({\"timestamp\":\"2019-09-02 22:00:00\",\"customer_no\":'cust', 'location':\"checkout\"}, ignore_index=True)\n",
    "#      data[data[\"timestamp\"]==\"2019-09-02 22:00:00\"]"
   ]
  },
  {
   "cell_type": "code",
   "execution_count": 457,
   "metadata": {},
   "outputs": [],
   "source": [
    "# df = pd.DataFrame()\n",
    "#days = ['friday', 'thursday', 'wednesday', 'tuesday', 'monday']\n",
    "# for day in days:\n",
    "#     df = pd.concat([pd.read_csv(f'data/{day}.csv', sep=';'), df])"
   ]
  },
  {
   "cell_type": "code",
   "execution_count": null,
   "metadata": {},
   "outputs": [],
   "source": []
  },
  {
   "cell_type": "code",
   "execution_count": null,
   "metadata": {},
   "outputs": [],
   "source": []
  },
  {
   "cell_type": "code",
   "execution_count": null,
   "metadata": {},
   "outputs": [],
   "source": []
  }
 ],
 "metadata": {
  "kernelspec": {
   "display_name": "Python 3 (ipykernel)",
   "language": "python",
   "name": "python3"
  },
  "language_info": {
   "codemirror_mode": {
    "name": "ipython",
    "version": 3
   },
   "file_extension": ".py",
   "mimetype": "text/x-python",
   "name": "python",
   "nbconvert_exporter": "python",
   "pygments_lexer": "ipython3",
   "version": "3.9.12"
  },
  "vscode": {
   "interpreter": {
    "hash": "55930a29ab98b98d7282727545d9c42f71ba15d2e48ec5021e2a446cd51044f3"
   }
  }
 },
 "nbformat": 4,
 "nbformat_minor": 2
}
