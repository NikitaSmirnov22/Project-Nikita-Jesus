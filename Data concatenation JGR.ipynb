{
 "cells": [
  {
   "cell_type": "code",
   "execution_count": 143,
   "metadata": {},
   "outputs": [],
   "source": [
    "import pandas as pd\n",
    "import numpy as np\n",
    "import mitosheet\n",
    "import seaborn as sns"
   ]
  },
  {
   "cell_type": "code",
   "execution_count": 144,
   "metadata": {},
   "outputs": [],
   "source": [
    "\n",
    "Monday =  pd.read_csv(\"data/Monday.csv\",sep=\";\",index_col=0, parse_dates=True)\n",
    "Tuesday= pd.read_csv(\"data/Tuesday.csv\",sep=\";\",index_col=0, parse_dates=True)\n",
    "Wednesday = pd.read_csv(\"data/Wednesday.csv\",sep=\";\",index_col=0, parse_dates=True)\n",
    "Thursday = pd.read_csv(\"data/Thursday.csv\",sep=\";\",index_col=0, parse_dates=True)\n",
    "Friday = pd.read_csv(\"data/Friday.csv\",sep=\";\",index_col=0, parse_dates=True)\n"
   ]
  },
  {
   "cell_type": "code",
   "execution_count": 145,
   "metadata": {},
   "outputs": [],
   "source": [
    "#Monday.set_index(\"timestamp\")\n",
    "#Tuesday.set_index(\"timestamp\")\n",
    "#Wednesday.set_index(\"timestamp\")\n",
    "#Thursday.set_index(\"timestamp\")\n",
    "#Friday.set_index(\"timestamp\")"
   ]
  },
  {
   "cell_type": "code",
   "execution_count": 146,
   "metadata": {},
   "outputs": [],
   "source": [
    "#df_full = pd.concat([Monday,Tuesday, Wednesday, Thursday, Friday],  ignore_index=True,axis=1)"
   ]
  },
  {
   "cell_type": "code",
   "execution_count": 155,
   "metadata": {},
   "outputs": [],
   "source": [
    "    \n",
    "# Imported monday.csv\n",
    "import pandas as pd\n",
    "monday = pd.read_csv(r'/Users/jesus/Desktop/Spiced/random-rose-student-code/Project Markov MC simulation/jesus_nik_project/Project-Nikita-Jesus/data/monday.csv', sep=';')\n",
    "\n",
    "# Imported tuesday.csv\n",
    "import pandas as pd\n",
    "tuesday = pd.read_csv(r'/Users/jesus/Desktop/Spiced/random-rose-student-code/Project Markov MC simulation/jesus_nik_project/Project-Nikita-Jesus/data/tuesday.csv', sep=';')\n",
    "\n",
    "# Imported wednesday.csv\n",
    "import pandas as pd\n",
    "wednesday = pd.read_csv(r'/Users/jesus/Desktop/Spiced/random-rose-student-code/Project Markov MC simulation/jesus_nik_project/Project-Nikita-Jesus/data/wednesday.csv', sep=';')\n",
    "\n",
    "# Imported thursday.csv\n",
    "import pandas as pd\n",
    "thursday = pd.read_csv(r'/Users/jesus/Desktop/Spiced/random-rose-student-code/Project Markov MC simulation/jesus_nik_project/Project-Nikita-Jesus/data/thursday.csv', sep=';')\n",
    "\n",
    "# Imported friday.csv\n",
    "import pandas as pd\n",
    "friday = pd.read_csv(r'/Users/jesus/Desktop/Spiced/random-rose-student-code/Project Markov MC simulation/jesus_nik_project/Project-Nikita-Jesus/data/friday.csv', sep=';')\n",
    "\n",
    "# Pivoted into monday\n",
    "monday_pivot = pd.DataFrame(data={})\n",
    "\n",
    "# Imported tuesday.csv\n",
    "import pandas as pd\n",
    "tuesday_1 = pd.read_csv(r'/Users/jesus/Desktop/Spiced/random-rose-student-code/Project Markov MC simulation/jesus_nik_project/Project-Nikita-Jesus/data/tuesday.csv', sep=';')\n",
    "\n",
    "# Deleted tuesday_1\n",
    "del tuesday_1\n",
    "\n",
    "# Deleted monday_pivot\n",
    "del monday_pivot\n",
    "\n",
    "# Changed timestamp to dtype datetime\n",
    "import pandas as pd\n",
    "monday['timestamp'] = pd.to_datetime(monday['timestamp'], infer_datetime_format=True, errors='coerce')\n",
    "\n",
    "# Changed timestamp to dtype datetime\n",
    "import pandas as pd\n",
    "tuesday['timestamp'] = pd.to_datetime(tuesday['timestamp'], infer_datetime_format=True, errors='coerce')\n",
    "tuesday[\"customer_no\"]+2000\n",
    "\n",
    "# Changed timestamp to dtype datetime\n",
    "import pandas as pd\n",
    "wednesday['timestamp'] = pd.to_datetime(wednesday['timestamp'], infer_datetime_format=True, errors='coerce')\n",
    "wednesday[\"customer_no\"]+4000\n",
    "\n",
    "# Changed timestamp to dtype datetime\n",
    "import pandas as pd\n",
    "thursday['timestamp'] = pd.to_datetime(thursday['timestamp'], infer_datetime_format=True, errors='coerce')\n",
    "thursday[\"customer_no\"]+6000\n",
    "\n",
    "# Changed timestamp to dtype datetime\n",
    "import pandas as pd\n",
    "friday['timestamp'] = pd.to_datetime(friday['timestamp'], infer_datetime_format=True, errors='coerce')\n",
    "friday[\"customer_no\"]+8000\n",
    "\n",
    "\n",
    "# Concatenated 5 into dataframes into df6\n",
    "df = pd.concat([monday, tuesday, wednesday, thursday, friday], join='inner', ignore_index=True)\n"
   ]
  },
  {
   "cell_type": "code",
   "execution_count": 148,
   "metadata": {},
   "outputs": [],
   "source": [
    "df = pd.get_dummies(df, prefix=[\"location\"])"
   ]
  },
  {
   "cell_type": "markdown",
   "metadata": {},
   "source": [
    "Exercise 1: Sum total of minutes spent per section "
   ]
  },
  {
   "cell_type": "code",
   "execution_count": 149,
   "metadata": {},
   "outputs": [
    {
     "data": {
      "text/plain": [
       "3754"
      ]
     },
     "execution_count": 149,
     "metadata": {},
     "output_type": "execute_result"
    }
   ],
   "source": [
    "df[\"location_checkout\"].sum()\n",
    "df[\"location_dairy\"].sum()\n",
    "df[\"location_drinks\"].sum()\n",
    "df[\"location_fruit\"].sum()\n",
    "df[\"location_spices\"].sum()"
   ]
  },
  {
   "cell_type": "code",
   "execution_count": 150,
   "metadata": {},
   "outputs": [
    {
     "data": {
      "text/html": [
       "<div><div id=1505c3d1-db04-4335-a929-b9289a70bcb1 style=\"display:none; background-color:#9D6CFF; color:white; width:200px; height:30px; padding-left:5px; border-radius:4px; flex-direction:row; justify-content:space-around; align-items:center;\" onmouseover=\"this.style.backgroundColor='#BA9BF8'\" onmouseout=\"this.style.backgroundColor='#9D6CFF'\" onclick=\"window.commands?.execute('create-mitosheet-from-dataframe-output');\">See Full Dataframe in Mito</div> <script> if (window.commands?.hasCommand('create-mitosheet-from-dataframe-output')) document.getElementById('1505c3d1-db04-4335-a929-b9289a70bcb1').style.display = 'flex' </script> <table border=\"1\" class=\"dataframe\">\n",
       "  <thead>\n",
       "    <tr style=\"text-align: right;\">\n",
       "      <th></th>\n",
       "      <th>timestamp</th>\n",
       "      <th>customer_no</th>\n",
       "      <th>location_checkout</th>\n",
       "      <th>location_dairy</th>\n",
       "      <th>location_drinks</th>\n",
       "      <th>location_fruit</th>\n",
       "      <th>location_spices</th>\n",
       "    </tr>\n",
       "  </thead>\n",
       "  <tbody>\n",
       "    <tr>\n",
       "      <th>24872</th>\n",
       "      <td>2019-09-06 21:50:00</td>\n",
       "      <td>1500</td>\n",
       "      <td>0</td>\n",
       "      <td>1</td>\n",
       "      <td>0</td>\n",
       "      <td>0</td>\n",
       "      <td>0</td>\n",
       "    </tr>\n",
       "    <tr>\n",
       "      <th>24873</th>\n",
       "      <td>2019-09-06 21:50:00</td>\n",
       "      <td>1507</td>\n",
       "      <td>1</td>\n",
       "      <td>0</td>\n",
       "      <td>0</td>\n",
       "      <td>0</td>\n",
       "      <td>0</td>\n",
       "    </tr>\n",
       "    <tr>\n",
       "      <th>24874</th>\n",
       "      <td>2019-09-06 21:50:00</td>\n",
       "      <td>1508</td>\n",
       "      <td>1</td>\n",
       "      <td>0</td>\n",
       "      <td>0</td>\n",
       "      <td>0</td>\n",
       "      <td>0</td>\n",
       "    </tr>\n",
       "    <tr>\n",
       "      <th>24875</th>\n",
       "      <td>2019-09-06 21:50:00</td>\n",
       "      <td>1509</td>\n",
       "      <td>0</td>\n",
       "      <td>0</td>\n",
       "      <td>1</td>\n",
       "      <td>0</td>\n",
       "      <td>0</td>\n",
       "    </tr>\n",
       "    <tr>\n",
       "      <th>24876</th>\n",
       "      <td>2019-09-06 21:50:00</td>\n",
       "      <td>1510</td>\n",
       "      <td>0</td>\n",
       "      <td>0</td>\n",
       "      <td>0</td>\n",
       "      <td>0</td>\n",
       "      <td>1</td>\n",
       "    </tr>\n",
       "  </tbody>\n",
       "</table></div>"
      ],
      "text/plain": [
       "                timestamp  customer_no  location_checkout  location_dairy  \\\n",
       "24872 2019-09-06 21:50:00         1500                  0               1   \n",
       "24873 2019-09-06 21:50:00         1507                  1               0   \n",
       "24874 2019-09-06 21:50:00         1508                  1               0   \n",
       "24875 2019-09-06 21:50:00         1509                  0               0   \n",
       "24876 2019-09-06 21:50:00         1510                  0               0   \n",
       "\n",
       "       location_drinks  location_fruit  location_spices  \n",
       "24872                0               0                0  \n",
       "24873                0               0                0  \n",
       "24874                0               0                0  \n",
       "24875                1               0                0  \n",
       "24876                0               0                1  "
      ]
     },
     "execution_count": 150,
     "metadata": {},
     "output_type": "execute_result"
    }
   ],
   "source": [
    "df.tail()"
   ]
  },
  {
   "cell_type": "code",
   "execution_count": 151,
   "metadata": {},
   "outputs": [],
   "source": [
    "#df['cumsum_checkout'] = df.groupby(['location_checkout']).cumcount()"
   ]
  },
  {
   "cell_type": "code",
   "execution_count": 152,
   "metadata": {},
   "outputs": [],
   "source": [
    "df[\"cumsum_checkout\"] = df[\"location_checkout\"].cumsum(axis = 0)"
   ]
  },
  {
   "cell_type": "code",
   "execution_count": 153,
   "metadata": {},
   "outputs": [
    {
     "data": {
      "text/plain": [
       "<AxesSubplot:xlabel='timestamp', ylabel='cumsum_checkout'>"
      ]
     },
     "execution_count": 153,
     "metadata": {},
     "output_type": "execute_result"
    },
    {
     "data": {
      "image/png": "[encoded data removed]",
      "text/plain": [
       "<Figure size 432x288 with 1 Axes>"
      ]
     },
     "metadata": {
      "needs_background": "light"
     },
     "output_type": "display_data"
    }
   ],
   "source": [
    "sns.histplot(x=\"timestamp\", y=\"cumsum_checkout\", data=df, hue=0.7)"
   ]
  },
  {
   "cell_type": "code",
   "execution_count": 154,
   "metadata": {},
   "outputs": [
    {
     "ename": "IndentationError",
     "evalue": "expected an indented block (483116424.py, line 1)",
     "output_type": "error",
     "traceback": [
      "\u001b[0;36m  Input \u001b[0;32mIn [154]\u001b[0;36m\u001b[0m\n\u001b[0;31m    for i in df[\"customer_no\"]:\u001b[0m\n\u001b[0m                               ^\u001b[0m\n\u001b[0;31mIndentationError\u001b[0m\u001b[0;31m:\u001b[0m expected an indented block\n"
     ]
    }
   ],
   "source": [
    "for i in df[\"customer_no\"]:"
   ]
  },
  {
   "cell_type": "code",
   "execution_count": null,
   "metadata": {},
   "outputs": [],
   "source": []
  },
  {
   "cell_type": "code",
   "execution_count": null,
   "metadata": {},
   "outputs": [],
   "source": []
  }
 ],
 "metadata": {
  "kernelspec": {
   "display_name": "Python 3.9.12 ('base')",
   "language": "python",
   "name": "python3"
  },
  "language_info": {
   "codemirror_mode": {
    "name": "ipython",
    "version": 3
   },
   "file_extension": ".py",
   "mimetype": "text/x-python",
   "name": "python",
   "nbconvert_exporter": "python",
   "pygments_lexer": "ipython3",
   "version": "3.9.12"
  },
  "orig_nbformat": 4,
  "vscode": {
   "interpreter": {
    "hash": "55930a29ab98b98d7282727545d9c42f71ba15d2e48ec5021e2a446cd51044f3"
   }
  }
 },
 "nbformat": 4,
 "nbformat_minor": 2
}
