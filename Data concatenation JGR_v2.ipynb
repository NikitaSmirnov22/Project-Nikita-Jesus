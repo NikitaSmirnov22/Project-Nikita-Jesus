{
 "cells": [
  {
   "cell_type": "markdown",
   "metadata": {},
   "source": [
    "\n",
    "**EDA**\n"
   ]
  },
  {
   "cell_type": "code",
   "execution_count": 167,
   "metadata": {},
   "outputs": [],
   "source": [
    "import pandas as pd\n",
    "import numpy as np\n",
    "import mitosheet\n",
    "import seaborn as sns\n",
    "import warnings\n",
    "warnings.filterwarnings(\"ignore\")\n",
    "import matplotlib.pyplot as plt\n",
    "import datetime"
   ]
  },
  {
   "cell_type": "markdown",
   "metadata": {},
   "source": [
    "EDA GOALS:\n",
    "- Calculate the total number of customers in each section. +\n",
    "- Calculate the total number of customers in each section over time. +\n",
    "- Display the number of customers at checkout over time. +\n",
    "- Calculate the time each customer spent in the market.\n",
    "- Calculate the total number of customers in the supermarket over time.\n",
    "- Our business managers think that the first section customers visit follows a different pattern than the following ones. \n",
    "- Plot the distribution of customers of their first visited section versus following sections.\n",
    "- Estimate the total revenue for a customer (section, revenue per minute)"
   ]
  },
  {
   "cell_type": "code",
   "execution_count": 168,
   "metadata": {},
   "outputs": [],
   "source": [
    "# Imported monday.csv\n",
    "monday = pd.read_csv(r'data/monday.csv', sep=';')\n",
    "# Imported tuesday.csv\n",
    "tuesday = pd.read_csv(r'data/tuesday.csv', sep=';')\n",
    "# Imported wednesday.csv\n",
    "wednesday = pd.read_csv(r'data/wednesday.csv', sep=';')\n",
    "# Imported thursday.csv\n",
    "thursday = pd.read_csv(r'data/thursday.csv', sep=';')\n",
    "# Imported friday.csv\n",
    "friday = pd.read_csv(r'data/friday.csv', sep=';')\n",
    "    \n",
    "# Changed timestamp to dtype datetime\n",
    "#monday['customer_no']=monday['customer_no'].apply(lambda x: str(x)+'_monday')\n",
    "# Changed timestamp to dtype datetime\n",
    "#tuesday['customer_no']=tuesday['customer_no'].apply(lambda x: str(x)+'_tuesday')\n",
    "# Changed timestamp to dtype datetime\n",
    "#wednesday['customer_no']=wednesday['customer_no'].apply(lambda x: str(x)+'_wednesday')\n",
    "# Changed timestamp to dtype datetime\n",
    "#thursday['customer_no']=thursday['customer_no'].apply(lambda x: str(x)+'_thursday')\n",
    "# Changed timestamp to dtype datetime\n",
    "#friday['customer_no'] = friday['customer_no']+8000\n",
    "#friday['customer_no'] = friday['customer_no'].astype(str)\n",
    "#friday['customer_no']=friday['customer_no'].apply(lambda x: str(x)+'_friday')\n",
    "# Concatenated 5 into dataframes into df\n",
    "df = pd.concat([monday, tuesday, wednesday, thursday, friday], join='inner', ignore_index=True, sort=True)\n",
    "\n",
    "\n",
    "#datetime_series = pd.to_datetime(df['timestamp'])\n",
    "#datetime_index = pd.DatetimeIndex(datetime_series.values)\n",
    "#df=df.set_index(datetime_index)\n",
    "#df.drop('timestamp',axis=1,inplace=True)\n",
    "\n",
    "df[\"timestamp\"] = pd.to_datetime(df[\"timestamp\"])\n",
    "df[\"hour\"] = df[\"timestamp\"].dt.hour\n",
    "\n",
    "df.set_index(\"timestamp\",inplace=True)"
   ]
  },
  {
   "cell_type": "code",
   "execution_count": 169,
   "metadata": {},
   "outputs": [
    {
     "data": {
      "text/html": [
       "<div><div id=754cade7-0c39-4a9c-8646-e3b2da72cccb style=\"display:none; background-color:#9D6CFF; color:white; width:200px; height:30px; padding-left:5px; border-radius:4px; flex-direction:row; justify-content:space-around; align-items:center;\" onmouseover=\"this.style.backgroundColor='#BA9BF8'\" onmouseout=\"this.style.backgroundColor='#9D6CFF'\" onclick=\"window.commands?.execute('create-mitosheet-from-dataframe-output');\">See Full Dataframe in Mito</div> <script> if (window.commands?.hasCommand('create-mitosheet-from-dataframe-output')) document.getElementById('754cade7-0c39-4a9c-8646-e3b2da72cccb').style.display = 'flex' </script> <table border=\"1\" class=\"dataframe\">\n",
       "  <thead>\n",
       "    <tr style=\"text-align: right;\">\n",
       "      <th></th>\n",
       "      <th>customer_no</th>\n",
       "      <th>location</th>\n",
       "      <th>hour</th>\n",
       "    </tr>\n",
       "    <tr>\n",
       "      <th>timestamp</th>\n",
       "      <th></th>\n",
       "      <th></th>\n",
       "      <th></th>\n",
       "    </tr>\n",
       "  </thead>\n",
       "  <tbody>\n",
       "    <tr>\n",
       "      <th>2019-09-02 07:03:00</th>\n",
       "      <td>1</td>\n",
       "      <td>dairy</td>\n",
       "      <td>7</td>\n",
       "    </tr>\n",
       "    <tr>\n",
       "      <th>2019-09-02 07:03:00</th>\n",
       "      <td>2</td>\n",
       "      <td>dairy</td>\n",
       "      <td>7</td>\n",
       "    </tr>\n",
       "    <tr>\n",
       "      <th>2019-09-02 07:04:00</th>\n",
       "      <td>3</td>\n",
       "      <td>dairy</td>\n",
       "      <td>7</td>\n",
       "    </tr>\n",
       "    <tr>\n",
       "      <th>2019-09-02 07:04:00</th>\n",
       "      <td>4</td>\n",
       "      <td>dairy</td>\n",
       "      <td>7</td>\n",
       "    </tr>\n",
       "    <tr>\n",
       "      <th>2019-09-02 07:04:00</th>\n",
       "      <td>5</td>\n",
       "      <td>spices</td>\n",
       "      <td>7</td>\n",
       "    </tr>\n",
       "    <tr>\n",
       "      <th>...</th>\n",
       "      <td>...</td>\n",
       "      <td>...</td>\n",
       "      <td>...</td>\n",
       "    </tr>\n",
       "    <tr>\n",
       "      <th>2019-09-06 21:50:00</th>\n",
       "      <td>1500</td>\n",
       "      <td>dairy</td>\n",
       "      <td>21</td>\n",
       "    </tr>\n",
       "    <tr>\n",
       "      <th>2019-09-06 21:50:00</th>\n",
       "      <td>1507</td>\n",
       "      <td>checkout</td>\n",
       "      <td>21</td>\n",
       "    </tr>\n",
       "    <tr>\n",
       "      <th>2019-09-06 21:50:00</th>\n",
       "      <td>1508</td>\n",
       "      <td>checkout</td>\n",
       "      <td>21</td>\n",
       "    </tr>\n",
       "    <tr>\n",
       "      <th>2019-09-06 21:50:00</th>\n",
       "      <td>1509</td>\n",
       "      <td>drinks</td>\n",
       "      <td>21</td>\n",
       "    </tr>\n",
       "    <tr>\n",
       "      <th>2019-09-06 21:50:00</th>\n",
       "      <td>1510</td>\n",
       "      <td>spices</td>\n",
       "      <td>21</td>\n",
       "    </tr>\n",
       "  </tbody>\n",
       "</table></div>"
      ],
      "text/plain": [
       "                     customer_no  location  hour\n",
       "timestamp                                       \n",
       "2019-09-02 07:03:00            1     dairy     7\n",
       "2019-09-02 07:03:00            2     dairy     7\n",
       "2019-09-02 07:04:00            3     dairy     7\n",
       "2019-09-02 07:04:00            4     dairy     7\n",
       "2019-09-02 07:04:00            5    spices     7\n",
       "...                          ...       ...   ...\n",
       "2019-09-06 21:50:00         1500     dairy    21\n",
       "2019-09-06 21:50:00         1507  checkout    21\n",
       "2019-09-06 21:50:00         1508  checkout    21\n",
       "2019-09-06 21:50:00         1509    drinks    21\n",
       "2019-09-06 21:50:00         1510    spices    21\n",
       "\n",
       "[24877 rows x 3 columns]"
      ]
     },
     "execution_count": 169,
     "metadata": {},
     "output_type": "execute_result"
    }
   ],
   "source": [
    "df"
   ]
  },
  {
   "cell_type": "code",
   "execution_count": 170,
   "metadata": {},
   "outputs": [
    {
     "name": "stdout",
     "output_type": "stream",
     "text": [
      "<class 'pandas.core.frame.DataFrame'>\n",
      "DatetimeIndex: 24877 entries, 2019-09-02 07:03:00 to 2019-09-06 21:50:00\n",
      "Data columns (total 3 columns):\n",
      " #   Column       Non-Null Count  Dtype \n",
      "---  ------       --------------  ----- \n",
      " 0   customer_no  24877 non-null  int64 \n",
      " 1   location     24877 non-null  object\n",
      " 2   hour         24877 non-null  int64 \n",
      "dtypes: int64(2), object(1)\n",
      "memory usage: 777.4+ KB\n"
     ]
    }
   ],
   "source": [
    "df.info()"
   ]
  },
  {
   "cell_type": "code",
   "execution_count": 171,
   "metadata": {},
   "outputs": [
    {
     "data": {
      "text/plain": [
       "timestamp\n",
       "2019-09-02 07:03:00    Monday-1\n",
       "2019-09-02 07:03:00    Monday-2\n",
       "2019-09-02 07:04:00    Monday-3\n",
       "2019-09-02 07:04:00    Monday-4\n",
       "2019-09-02 07:04:00    Monday-5\n",
       "Name: customer_id, dtype: object"
      ]
     },
     "execution_count": 171,
     "metadata": {},
     "output_type": "execute_result"
    }
   ],
   "source": [
    "df.sort_index(inplace=True)\n",
    "df[\"time\"] = df.index.time\n",
    "df[\"day\"] = df.index.day_name()\n",
    "df[\"customer_id\"] = df[\"day\"] + \"-\" + df[\"customer_no\"].astype(str)\n",
    "df[\"customer_id\"].head()"
   ]
  },
  {
   "cell_type": "code",
   "execution_count": null,
   "metadata": {},
   "outputs": [],
   "source": []
  },
  {
   "cell_type": "markdown",
   "metadata": {},
   "source": [
    "USING NOTEBOOK GITHUB"
   ]
  },
  {
   "cell_type": "code",
   "execution_count": 172,
   "metadata": {},
   "outputs": [],
   "source": [
    "\n",
    "enter_datetimes = df.reset_index().groupby(\"customer_id\")[\"timestamp\"].min()"
   ]
  },
  {
   "cell_type": "code",
   "execution_count": 173,
   "metadata": {},
   "outputs": [
    {
     "data": {
      "text/plain": [
       "customer_id\n",
       "Friday-1      2019-09-06 07:00:00\n",
       "Friday-10     2019-09-06 07:06:00\n",
       "Friday-100    2019-09-06 08:03:00\n",
       "Friday-1000   2019-09-06 17:19:00\n",
       "Friday-1001   2019-09-06 17:19:00\n",
       "Friday-1002   2019-09-06 17:19:00\n",
       "Friday-1003   2019-09-06 17:19:00\n",
       "Friday-1004   2019-09-06 17:19:00\n",
       "Friday-1005   2019-09-06 17:19:00\n",
       "Friday-1006   2019-09-06 17:21:00\n",
       "Friday-1007   2019-09-06 17:21:00\n",
       "Friday-1008   2019-09-06 17:21:00\n",
       "Friday-1009   2019-09-06 17:22:00\n",
       "Friday-101    2019-09-06 08:03:00\n",
       "Friday-1010   2019-09-06 17:23:00\n",
       "Friday-1011   2019-09-06 17:23:00\n",
       "Friday-1012   2019-09-06 17:24:00\n",
       "Friday-1013   2019-09-06 17:24:00\n",
       "Friday-1014   2019-09-06 17:24:00\n",
       "Friday-1015   2019-09-06 17:25:00\n",
       "Friday-1016   2019-09-06 17:25:00\n",
       "Friday-1017   2019-09-06 17:26:00\n",
       "Friday-1018   2019-09-06 17:26:00\n",
       "Friday-1019   2019-09-06 17:26:00\n",
       "Friday-102    2019-09-06 08:04:00\n",
       "Friday-1020   2019-09-06 17:27:00\n",
       "Friday-1021   2019-09-06 17:28:00\n",
       "Friday-1022   2019-09-06 17:28:00\n",
       "Friday-1023   2019-09-06 17:29:00\n",
       "Friday-1024   2019-09-06 17:29:00\n",
       "Friday-1025   2019-09-06 17:31:00\n",
       "Friday-1026   2019-09-06 17:31:00\n",
       "Friday-1027   2019-09-06 17:31:00\n",
       "Friday-1028   2019-09-06 17:31:00\n",
       "Friday-1029   2019-09-06 17:31:00\n",
       "Friday-103    2019-09-06 08:04:00\n",
       "Friday-1030   2019-09-06 17:34:00\n",
       "Friday-1031   2019-09-06 17:35:00\n",
       "Friday-1032   2019-09-06 17:35:00\n",
       "Friday-1033   2019-09-06 17:35:00\n",
       "Friday-1034   2019-09-06 17:35:00\n",
       "Friday-1035   2019-09-06 17:39:00\n",
       "Friday-1036   2019-09-06 17:39:00\n",
       "Friday-1037   2019-09-06 17:39:00\n",
       "Friday-1038   2019-09-06 17:39:00\n",
       "Friday-1039   2019-09-06 17:39:00\n",
       "Friday-104    2019-09-06 08:05:00\n",
       "Friday-1040   2019-09-06 17:39:00\n",
       "Friday-1041   2019-09-06 17:40:00\n",
       "Friday-1042   2019-09-06 17:41:00\n",
       "Name: timestamp, dtype: datetime64[ns]"
      ]
     },
     "execution_count": 173,
     "metadata": {},
     "output_type": "execute_result"
    }
   ],
   "source": [
    "enter_datetimes.head(50)"
   ]
  },
  {
   "cell_type": "code",
   "execution_count": 174,
   "metadata": {},
   "outputs": [],
   "source": [
    "for customer in df[\"customer_id\"].unique():\n",
    "    df.loc[\n",
    "        (df.customer_id == customer) & (df.index == enter_datetimes[customer]),\n",
    "        \"section_order\",\n",
    "    ] = \"first\""
   ]
  },
  {
   "cell_type": "code",
   "execution_count": 175,
   "metadata": {},
   "outputs": [
    {
     "data": {
      "text/html": [
       "<div><div id=65bb22b3-dac9-4edc-9d54-f2e851cd932e style=\"display:none; background-color:#9D6CFF; color:white; width:200px; height:30px; padding-left:5px; border-radius:4px; flex-direction:row; justify-content:space-around; align-items:center;\" onmouseover=\"this.style.backgroundColor='#BA9BF8'\" onmouseout=\"this.style.backgroundColor='#9D6CFF'\" onclick=\"window.commands?.execute('create-mitosheet-from-dataframe-output');\">See Full Dataframe in Mito</div> <script> if (window.commands?.hasCommand('create-mitosheet-from-dataframe-output')) document.getElementById('65bb22b3-dac9-4edc-9d54-f2e851cd932e').style.display = 'flex' </script> <table border=\"1\" class=\"dataframe\">\n",
       "  <thead>\n",
       "    <tr style=\"text-align: right;\">\n",
       "      <th></th>\n",
       "      <th>customer_no</th>\n",
       "      <th>location</th>\n",
       "      <th>hour</th>\n",
       "      <th>time</th>\n",
       "      <th>day</th>\n",
       "      <th>customer_id</th>\n",
       "      <th>section_order</th>\n",
       "    </tr>\n",
       "    <tr>\n",
       "      <th>timestamp</th>\n",
       "      <th></th>\n",
       "      <th></th>\n",
       "      <th></th>\n",
       "      <th></th>\n",
       "      <th></th>\n",
       "      <th></th>\n",
       "      <th></th>\n",
       "    </tr>\n",
       "  </thead>\n",
       "  <tbody>\n",
       "    <tr>\n",
       "      <th>2019-09-06 21:47:00</th>\n",
       "      <td>1502</td>\n",
       "      <td>checkout</td>\n",
       "      <td>21</td>\n",
       "      <td>21:47:00</td>\n",
       "      <td>Friday</td>\n",
       "      <td>Friday-1502</td>\n",
       "      <td>NaN</td>\n",
       "    </tr>\n",
       "    <tr>\n",
       "      <th>2019-09-06 21:47:00</th>\n",
       "      <td>1503</td>\n",
       "      <td>dairy</td>\n",
       "      <td>21</td>\n",
       "      <td>21:47:00</td>\n",
       "      <td>Friday</td>\n",
       "      <td>Friday-1503</td>\n",
       "      <td>first</td>\n",
       "    </tr>\n",
       "    <tr>\n",
       "      <th>2019-09-06 21:47:00</th>\n",
       "      <td>1504</td>\n",
       "      <td>fruit</td>\n",
       "      <td>21</td>\n",
       "      <td>21:47:00</td>\n",
       "      <td>Friday</td>\n",
       "      <td>Friday-1504</td>\n",
       "      <td>first</td>\n",
       "    </tr>\n",
       "    <tr>\n",
       "      <th>2019-09-06 21:48:00</th>\n",
       "      <td>1494</td>\n",
       "      <td>fruit</td>\n",
       "      <td>21</td>\n",
       "      <td>21:48:00</td>\n",
       "      <td>Friday</td>\n",
       "      <td>Friday-1494</td>\n",
       "      <td>NaN</td>\n",
       "    </tr>\n",
       "    <tr>\n",
       "      <th>2019-09-06 21:48:00</th>\n",
       "      <td>1501</td>\n",
       "      <td>checkout</td>\n",
       "      <td>21</td>\n",
       "      <td>21:48:00</td>\n",
       "      <td>Friday</td>\n",
       "      <td>Friday-1501</td>\n",
       "      <td>NaN</td>\n",
       "    </tr>\n",
       "    <tr>\n",
       "      <th>...</th>\n",
       "      <td>...</td>\n",
       "      <td>...</td>\n",
       "      <td>...</td>\n",
       "      <td>...</td>\n",
       "      <td>...</td>\n",
       "      <td>...</td>\n",
       "      <td>...</td>\n",
       "    </tr>\n",
       "    <tr>\n",
       "      <th>2019-09-06 21:50:00</th>\n",
       "      <td>1500</td>\n",
       "      <td>dairy</td>\n",
       "      <td>21</td>\n",
       "      <td>21:50:00</td>\n",
       "      <td>Friday</td>\n",
       "      <td>Friday-1500</td>\n",
       "      <td>NaN</td>\n",
       "    </tr>\n",
       "    <tr>\n",
       "      <th>2019-09-06 21:50:00</th>\n",
       "      <td>1507</td>\n",
       "      <td>checkout</td>\n",
       "      <td>21</td>\n",
       "      <td>21:50:00</td>\n",
       "      <td>Friday</td>\n",
       "      <td>Friday-1507</td>\n",
       "      <td>NaN</td>\n",
       "    </tr>\n",
       "    <tr>\n",
       "      <th>2019-09-06 21:50:00</th>\n",
       "      <td>1508</td>\n",
       "      <td>checkout</td>\n",
       "      <td>21</td>\n",
       "      <td>21:50:00</td>\n",
       "      <td>Friday</td>\n",
       "      <td>Friday-1508</td>\n",
       "      <td>NaN</td>\n",
       "    </tr>\n",
       "    <tr>\n",
       "      <th>2019-09-06 21:50:00</th>\n",
       "      <td>1509</td>\n",
       "      <td>drinks</td>\n",
       "      <td>21</td>\n",
       "      <td>21:50:00</td>\n",
       "      <td>Friday</td>\n",
       "      <td>Friday-1509</td>\n",
       "      <td>first</td>\n",
       "    </tr>\n",
       "    <tr>\n",
       "      <th>2019-09-06 21:50:00</th>\n",
       "      <td>1510</td>\n",
       "      <td>spices</td>\n",
       "      <td>21</td>\n",
       "      <td>21:50:00</td>\n",
       "      <td>Friday</td>\n",
       "      <td>Friday-1510</td>\n",
       "      <td>first</td>\n",
       "    </tr>\n",
       "  </tbody>\n",
       "</table></div>"
      ],
      "text/plain": [
       "                     customer_no  location  hour      time     day  \\\n",
       "timestamp                                                            \n",
       "2019-09-06 21:47:00         1502  checkout    21  21:47:00  Friday   \n",
       "2019-09-06 21:47:00         1503     dairy    21  21:47:00  Friday   \n",
       "2019-09-06 21:47:00         1504     fruit    21  21:47:00  Friday   \n",
       "2019-09-06 21:48:00         1494     fruit    21  21:48:00  Friday   \n",
       "2019-09-06 21:48:00         1501  checkout    21  21:48:00  Friday   \n",
       "2019-09-06 21:48:00         1504  checkout    21  21:48:00  Friday   \n",
       "2019-09-06 21:48:00         1505     fruit    21  21:48:00  Friday   \n",
       "2019-09-06 21:48:00         1506     dairy    21  21:48:00  Friday   \n",
       "2019-09-06 21:48:00         1507     dairy    21  21:48:00  Friday   \n",
       "2019-09-06 21:48:00         1508     dairy    21  21:48:00  Friday   \n",
       "2019-09-06 21:49:00         1494    spices    21  21:49:00  Friday   \n",
       "2019-09-06 21:49:00         1496     dairy    21  21:49:00  Friday   \n",
       "2019-09-06 21:49:00         1503    drinks    21  21:49:00  Friday   \n",
       "2019-09-06 21:49:00         1505     dairy    21  21:49:00  Friday   \n",
       "2019-09-06 21:50:00         1496     fruit    21  21:50:00  Friday   \n",
       "2019-09-06 21:50:00         1500     dairy    21  21:50:00  Friday   \n",
       "2019-09-06 21:50:00         1507  checkout    21  21:50:00  Friday   \n",
       "2019-09-06 21:50:00         1508  checkout    21  21:50:00  Friday   \n",
       "2019-09-06 21:50:00         1509    drinks    21  21:50:00  Friday   \n",
       "2019-09-06 21:50:00         1510    spices    21  21:50:00  Friday   \n",
       "\n",
       "                     customer_id section_order  \n",
       "timestamp                                       \n",
       "2019-09-06 21:47:00  Friday-1502           NaN  \n",
       "2019-09-06 21:47:00  Friday-1503         first  \n",
       "2019-09-06 21:47:00  Friday-1504         first  \n",
       "2019-09-06 21:48:00  Friday-1494           NaN  \n",
       "2019-09-06 21:48:00  Friday-1501           NaN  \n",
       "2019-09-06 21:48:00  Friday-1504           NaN  \n",
       "2019-09-06 21:48:00  Friday-1505         first  \n",
       "2019-09-06 21:48:00  Friday-1506         first  \n",
       "2019-09-06 21:48:00  Friday-1507         first  \n",
       "2019-09-06 21:48:00  Friday-1508         first  \n",
       "2019-09-06 21:49:00  Friday-1494           NaN  \n",
       "2019-09-06 21:49:00  Friday-1496           NaN  \n",
       "2019-09-06 21:49:00  Friday-1503           NaN  \n",
       "2019-09-06 21:49:00  Friday-1505           NaN  \n",
       "2019-09-06 21:50:00  Friday-1496           NaN  \n",
       "2019-09-06 21:50:00  Friday-1500           NaN  \n",
       "2019-09-06 21:50:00  Friday-1507           NaN  \n",
       "2019-09-06 21:50:00  Friday-1508           NaN  \n",
       "2019-09-06 21:50:00  Friday-1509         first  \n",
       "2019-09-06 21:50:00  Friday-1510         first  "
      ]
     },
     "execution_count": 175,
     "metadata": {},
     "output_type": "execute_result"
    }
   ],
   "source": [
    "df.tail(20)"
   ]
  },
  {
   "cell_type": "code",
   "execution_count": 176,
   "metadata": {},
   "outputs": [],
   "source": [
    "#df_full = df.drop(columns=[\"customer_no\"])"
   ]
  },
  {
   "cell_type": "code",
   "execution_count": 177,
   "metadata": {},
   "outputs": [],
   "source": [
    "\n",
    "df.loc[df[\"location\"] == \"checkout\", \"section_order\"] = \"checkout\""
   ]
  },
  {
   "cell_type": "code",
   "execution_count": 178,
   "metadata": {},
   "outputs": [],
   "source": [
    "\n",
    "df[\"section_order\"].fillna(\"following\", inplace=True)"
   ]
  },
  {
   "cell_type": "code",
   "execution_count": 179,
   "metadata": {},
   "outputs": [
    {
     "data": {
      "text/html": [
       "<div><div id=bfaaeb3f-2a6e-42aa-8019-3e918205ffbd style=\"display:none; background-color:#9D6CFF; color:white; width:200px; height:30px; padding-left:5px; border-radius:4px; flex-direction:row; justify-content:space-around; align-items:center;\" onmouseover=\"this.style.backgroundColor='#BA9BF8'\" onmouseout=\"this.style.backgroundColor='#9D6CFF'\" onclick=\"window.commands?.execute('create-mitosheet-from-dataframe-output');\">See Full Dataframe in Mito</div> <script> if (window.commands?.hasCommand('create-mitosheet-from-dataframe-output')) document.getElementById('bfaaeb3f-2a6e-42aa-8019-3e918205ffbd').style.display = 'flex' </script> <table border=\"1\" class=\"dataframe\">\n",
       "  <thead>\n",
       "    <tr style=\"text-align: right;\">\n",
       "      <th></th>\n",
       "      <th>customer_no</th>\n",
       "      <th>location</th>\n",
       "      <th>hour</th>\n",
       "      <th>time</th>\n",
       "      <th>day</th>\n",
       "      <th>customer_id</th>\n",
       "      <th>section_order</th>\n",
       "    </tr>\n",
       "    <tr>\n",
       "      <th>timestamp</th>\n",
       "      <th></th>\n",
       "      <th></th>\n",
       "      <th></th>\n",
       "      <th></th>\n",
       "      <th></th>\n",
       "      <th></th>\n",
       "      <th></th>\n",
       "    </tr>\n",
       "  </thead>\n",
       "  <tbody>\n",
       "    <tr>\n",
       "      <th>2019-09-02 07:03:00</th>\n",
       "      <td>1</td>\n",
       "      <td>dairy</td>\n",
       "      <td>7</td>\n",
       "      <td>07:03:00</td>\n",
       "      <td>Monday</td>\n",
       "      <td>Monday-1</td>\n",
       "      <td>first</td>\n",
       "    </tr>\n",
       "    <tr>\n",
       "      <th>2019-09-02 07:03:00</th>\n",
       "      <td>2</td>\n",
       "      <td>dairy</td>\n",
       "      <td>7</td>\n",
       "      <td>07:03:00</td>\n",
       "      <td>Monday</td>\n",
       "      <td>Monday-2</td>\n",
       "      <td>first</td>\n",
       "    </tr>\n",
       "    <tr>\n",
       "      <th>2019-09-02 07:04:00</th>\n",
       "      <td>3</td>\n",
       "      <td>dairy</td>\n",
       "      <td>7</td>\n",
       "      <td>07:04:00</td>\n",
       "      <td>Monday</td>\n",
       "      <td>Monday-3</td>\n",
       "      <td>first</td>\n",
       "    </tr>\n",
       "    <tr>\n",
       "      <th>2019-09-02 07:04:00</th>\n",
       "      <td>4</td>\n",
       "      <td>dairy</td>\n",
       "      <td>7</td>\n",
       "      <td>07:04:00</td>\n",
       "      <td>Monday</td>\n",
       "      <td>Monday-4</td>\n",
       "      <td>first</td>\n",
       "    </tr>\n",
       "    <tr>\n",
       "      <th>2019-09-02 07:04:00</th>\n",
       "      <td>5</td>\n",
       "      <td>spices</td>\n",
       "      <td>7</td>\n",
       "      <td>07:04:00</td>\n",
       "      <td>Monday</td>\n",
       "      <td>Monday-5</td>\n",
       "      <td>first</td>\n",
       "    </tr>\n",
       "    <tr>\n",
       "      <th>...</th>\n",
       "      <td>...</td>\n",
       "      <td>...</td>\n",
       "      <td>...</td>\n",
       "      <td>...</td>\n",
       "      <td>...</td>\n",
       "      <td>...</td>\n",
       "      <td>...</td>\n",
       "    </tr>\n",
       "    <tr>\n",
       "      <th>2019-09-02 07:13:00</th>\n",
       "      <td>22</td>\n",
       "      <td>fruit</td>\n",
       "      <td>7</td>\n",
       "      <td>07:13:00</td>\n",
       "      <td>Monday</td>\n",
       "      <td>Monday-22</td>\n",
       "      <td>first</td>\n",
       "    </tr>\n",
       "    <tr>\n",
       "      <th>2019-09-02 07:14:00</th>\n",
       "      <td>13</td>\n",
       "      <td>dairy</td>\n",
       "      <td>7</td>\n",
       "      <td>07:14:00</td>\n",
       "      <td>Monday</td>\n",
       "      <td>Monday-13</td>\n",
       "      <td>following</td>\n",
       "    </tr>\n",
       "    <tr>\n",
       "      <th>2019-09-02 07:14:00</th>\n",
       "      <td>18</td>\n",
       "      <td>dairy</td>\n",
       "      <td>7</td>\n",
       "      <td>07:14:00</td>\n",
       "      <td>Monday</td>\n",
       "      <td>Monday-18</td>\n",
       "      <td>following</td>\n",
       "    </tr>\n",
       "    <tr>\n",
       "      <th>2019-09-02 07:14:00</th>\n",
       "      <td>20</td>\n",
       "      <td>checkout</td>\n",
       "      <td>7</td>\n",
       "      <td>07:14:00</td>\n",
       "      <td>Monday</td>\n",
       "      <td>Monday-20</td>\n",
       "      <td>checkout</td>\n",
       "    </tr>\n",
       "    <tr>\n",
       "      <th>2019-09-02 07:14:00</th>\n",
       "      <td>23</td>\n",
       "      <td>fruit</td>\n",
       "      <td>7</td>\n",
       "      <td>07:14:00</td>\n",
       "      <td>Monday</td>\n",
       "      <td>Monday-23</td>\n",
       "      <td>first</td>\n",
       "    </tr>\n",
       "  </tbody>\n",
       "</table></div>"
      ],
      "text/plain": [
       "                     customer_no  location  hour      time     day  \\\n",
       "timestamp                                                            \n",
       "2019-09-02 07:03:00            1     dairy     7  07:03:00  Monday   \n",
       "2019-09-02 07:03:00            2     dairy     7  07:03:00  Monday   \n",
       "2019-09-02 07:04:00            3     dairy     7  07:04:00  Monday   \n",
       "2019-09-02 07:04:00            4     dairy     7  07:04:00  Monday   \n",
       "2019-09-02 07:04:00            5    spices     7  07:04:00  Monday   \n",
       "2019-09-02 07:04:00            6    spices     7  07:04:00  Monday   \n",
       "2019-09-02 07:04:00            7    spices     7  07:04:00  Monday   \n",
       "2019-09-02 07:04:00            8     fruit     7  07:04:00  Monday   \n",
       "2019-09-02 07:05:00            1  checkout     7  07:05:00  Monday   \n",
       "2019-09-02 07:05:00            5  checkout     7  07:05:00  Monday   \n",
       "2019-09-02 07:05:00            6     dairy     7  07:05:00  Monday   \n",
       "2019-09-02 07:05:00            7    drinks     7  07:05:00  Monday   \n",
       "2019-09-02 07:06:00            2  checkout     7  07:06:00  Monday   \n",
       "2019-09-02 07:06:00            3  checkout     7  07:06:00  Monday   \n",
       "2019-09-02 07:06:00            9     dairy     7  07:06:00  Monday   \n",
       "2019-09-02 07:06:00           10     fruit     7  07:06:00  Monday   \n",
       "2019-09-02 07:06:00           11    drinks     7  07:06:00  Monday   \n",
       "2019-09-02 07:06:00           12    spices     7  07:06:00  Monday   \n",
       "2019-09-02 07:06:00           13     dairy     7  07:06:00  Monday   \n",
       "2019-09-02 07:06:00           14     fruit     7  07:06:00  Monday   \n",
       "2019-09-02 07:07:00            8  checkout     7  07:07:00  Monday   \n",
       "2019-09-02 07:07:00           12    drinks     7  07:07:00  Monday   \n",
       "2019-09-02 07:07:00           15    spices     7  07:07:00  Monday   \n",
       "2019-09-02 07:07:00           16     dairy     7  07:07:00  Monday   \n",
       "2019-09-02 07:08:00            4  checkout     7  07:08:00  Monday   \n",
       "2019-09-02 07:08:00           10  checkout     7  07:08:00  Monday   \n",
       "2019-09-02 07:08:00           11  checkout     7  07:08:00  Monday   \n",
       "2019-09-02 07:08:00           15     fruit     7  07:08:00  Monday   \n",
       "2019-09-02 07:09:00            7    spices     7  07:09:00  Monday   \n",
       "2019-09-02 07:09:00           14  checkout     7  07:09:00  Monday   \n",
       "2019-09-02 07:09:00           16    spices     7  07:09:00  Monday   \n",
       "2019-09-02 07:10:00           12  checkout     7  07:10:00  Monday   \n",
       "2019-09-02 07:11:00            7     fruit     7  07:11:00  Monday   \n",
       "2019-09-02 07:11:00           16  checkout     7  07:11:00  Monday   \n",
       "2019-09-02 07:11:00           17     fruit     7  07:11:00  Monday   \n",
       "2019-09-02 07:12:00            9     fruit     7  07:12:00  Monday   \n",
       "2019-09-02 07:12:00           15  checkout     7  07:12:00  Monday   \n",
       "2019-09-02 07:12:00           18     fruit     7  07:12:00  Monday   \n",
       "2019-09-02 07:12:00           19    spices     7  07:12:00  Monday   \n",
       "2019-09-02 07:12:00           20    drinks     7  07:12:00  Monday   \n",
       "2019-09-02 07:13:00            7  checkout     7  07:13:00  Monday   \n",
       "2019-09-02 07:13:00            9  checkout     7  07:13:00  Monday   \n",
       "2019-09-02 07:13:00           13    spices     7  07:13:00  Monday   \n",
       "2019-09-02 07:13:00           19    drinks     7  07:13:00  Monday   \n",
       "2019-09-02 07:13:00           21    drinks     7  07:13:00  Monday   \n",
       "2019-09-02 07:13:00           22     fruit     7  07:13:00  Monday   \n",
       "2019-09-02 07:14:00           13     dairy     7  07:14:00  Monday   \n",
       "2019-09-02 07:14:00           18     dairy     7  07:14:00  Monday   \n",
       "2019-09-02 07:14:00           20  checkout     7  07:14:00  Monday   \n",
       "2019-09-02 07:14:00           23     fruit     7  07:14:00  Monday   \n",
       "\n",
       "                    customer_id section_order  \n",
       "timestamp                                      \n",
       "2019-09-02 07:03:00    Monday-1         first  \n",
       "2019-09-02 07:03:00    Monday-2         first  \n",
       "2019-09-02 07:04:00    Monday-3         first  \n",
       "2019-09-02 07:04:00    Monday-4         first  \n",
       "2019-09-02 07:04:00    Monday-5         first  \n",
       "2019-09-02 07:04:00    Monday-6         first  \n",
       "2019-09-02 07:04:00    Monday-7         first  \n",
       "2019-09-02 07:04:00    Monday-8         first  \n",
       "2019-09-02 07:05:00    Monday-1      checkout  \n",
       "2019-09-02 07:05:00    Monday-5      checkout  \n",
       "2019-09-02 07:05:00    Monday-6     following  \n",
       "2019-09-02 07:05:00    Monday-7     following  \n",
       "2019-09-02 07:06:00    Monday-2      checkout  \n",
       "2019-09-02 07:06:00    Monday-3      checkout  \n",
       "2019-09-02 07:06:00    Monday-9         first  \n",
       "2019-09-02 07:06:00   Monday-10         first  \n",
       "2019-09-02 07:06:00   Monday-11         first  \n",
       "2019-09-02 07:06:00   Monday-12         first  \n",
       "2019-09-02 07:06:00   Monday-13         first  \n",
       "2019-09-02 07:06:00   Monday-14         first  \n",
       "2019-09-02 07:07:00    Monday-8      checkout  \n",
       "2019-09-02 07:07:00   Monday-12     following  \n",
       "2019-09-02 07:07:00   Monday-15         first  \n",
       "2019-09-02 07:07:00   Monday-16         first  \n",
       "2019-09-02 07:08:00    Monday-4      checkout  \n",
       "2019-09-02 07:08:00   Monday-10      checkout  \n",
       "2019-09-02 07:08:00   Monday-11      checkout  \n",
       "2019-09-02 07:08:00   Monday-15     following  \n",
       "2019-09-02 07:09:00    Monday-7     following  \n",
       "2019-09-02 07:09:00   Monday-14      checkout  \n",
       "2019-09-02 07:09:00   Monday-16     following  \n",
       "2019-09-02 07:10:00   Monday-12      checkout  \n",
       "2019-09-02 07:11:00    Monday-7     following  \n",
       "2019-09-02 07:11:00   Monday-16      checkout  \n",
       "2019-09-02 07:11:00   Monday-17         first  \n",
       "2019-09-02 07:12:00    Monday-9     following  \n",
       "2019-09-02 07:12:00   Monday-15      checkout  \n",
       "2019-09-02 07:12:00   Monday-18         first  \n",
       "2019-09-02 07:12:00   Monday-19         first  \n",
       "2019-09-02 07:12:00   Monday-20         first  \n",
       "2019-09-02 07:13:00    Monday-7      checkout  \n",
       "2019-09-02 07:13:00    Monday-9      checkout  \n",
       "2019-09-02 07:13:00   Monday-13     following  \n",
       "2019-09-02 07:13:00   Monday-19     following  \n",
       "2019-09-02 07:13:00   Monday-21         first  \n",
       "2019-09-02 07:13:00   Monday-22         first  \n",
       "2019-09-02 07:14:00   Monday-13     following  \n",
       "2019-09-02 07:14:00   Monday-18     following  \n",
       "2019-09-02 07:14:00   Monday-20      checkout  \n",
       "2019-09-02 07:14:00   Monday-23         first  "
      ]
     },
     "execution_count": 179,
     "metadata": {},
     "output_type": "execute_result"
    }
   ],
   "source": [
    "df.head(50)"
   ]
  },
  {
   "cell_type": "code",
   "execution_count": 180,
   "metadata": {},
   "outputs": [
    {
     "data": {
      "text/html": [
       "<div><div id=c493f130-9eaa-4a24-b3ea-6c4ca01e31fa style=\"display:none; background-color:#9D6CFF; color:white; width:200px; height:30px; padding-left:5px; border-radius:4px; flex-direction:row; justify-content:space-around; align-items:center;\" onmouseover=\"this.style.backgroundColor='#BA9BF8'\" onmouseout=\"this.style.backgroundColor='#9D6CFF'\" onclick=\"window.commands?.execute('create-mitosheet-from-dataframe-output');\">See Full Dataframe in Mito</div> <script> if (window.commands?.hasCommand('create-mitosheet-from-dataframe-output')) document.getElementById('c493f130-9eaa-4a24-b3ea-6c4ca01e31fa').style.display = 'flex' </script> <table border=\"1\" class=\"dataframe\">\n",
       "  <thead>\n",
       "    <tr style=\"text-align: right;\">\n",
       "      <th></th>\n",
       "      <th>customer_id</th>\n",
       "    </tr>\n",
       "    <tr>\n",
       "      <th>location</th>\n",
       "      <th></th>\n",
       "    </tr>\n",
       "  </thead>\n",
       "  <tbody>\n",
       "    <tr>\n",
       "      <th>dairy</th>\n",
       "      <td>2141</td>\n",
       "    </tr>\n",
       "    <tr>\n",
       "      <th>drinks</th>\n",
       "      <td>1143</td>\n",
       "    </tr>\n",
       "    <tr>\n",
       "      <th>fruit</th>\n",
       "      <td>2810</td>\n",
       "    </tr>\n",
       "    <tr>\n",
       "      <th>spices</th>\n",
       "      <td>1351</td>\n",
       "    </tr>\n",
       "  </tbody>\n",
       "</table></div>"
      ],
      "text/plain": [
       "          customer_id\n",
       "location             \n",
       "dairy            2141\n",
       "drinks           1143\n",
       "fruit            2810\n",
       "spices           1351"
      ]
     },
     "execution_count": 180,
     "metadata": {},
     "output_type": "execute_result"
    }
   ],
   "source": [
    "customers_in_first_sections = (df[df.section_order == \"first\"].groupby(\"location\")[[\"customer_id\"]].count())\n",
    "customers_in_first_sections"
   ]
  },
  {
   "cell_type": "code",
   "execution_count": 181,
   "metadata": {},
   "outputs": [
    {
     "data": {
      "text/html": [
       "<div><div id=ad903659-8a3e-4dae-8919-7f2375d53a40 style=\"display:none; background-color:#9D6CFF; color:white; width:200px; height:30px; padding-left:5px; border-radius:4px; flex-direction:row; justify-content:space-around; align-items:center;\" onmouseover=\"this.style.backgroundColor='#BA9BF8'\" onmouseout=\"this.style.backgroundColor='#9D6CFF'\" onclick=\"window.commands?.execute('create-mitosheet-from-dataframe-output');\">See Full Dataframe in Mito</div> <script> if (window.commands?.hasCommand('create-mitosheet-from-dataframe-output')) document.getElementById('ad903659-8a3e-4dae-8919-7f2375d53a40').style.display = 'flex' </script> <table border=\"1\" class=\"dataframe\">\n",
       "  <thead>\n",
       "    <tr style=\"text-align: right;\">\n",
       "      <th></th>\n",
       "      <th>customer_id</th>\n",
       "    </tr>\n",
       "    <tr>\n",
       "      <th>location</th>\n",
       "      <th></th>\n",
       "    </tr>\n",
       "  </thead>\n",
       "  <tbody>\n",
       "    <tr>\n",
       "      <th>dairy</th>\n",
       "      <td>2141</td>\n",
       "    </tr>\n",
       "    <tr>\n",
       "      <th>drinks</th>\n",
       "      <td>1143</td>\n",
       "    </tr>\n",
       "    <tr>\n",
       "      <th>fruit</th>\n",
       "      <td>2810</td>\n",
       "    </tr>\n",
       "    <tr>\n",
       "      <th>spices</th>\n",
       "      <td>1351</td>\n",
       "    </tr>\n",
       "  </tbody>\n",
       "</table></div>"
      ],
      "text/plain": [
       "          customer_id\n",
       "location             \n",
       "dairy            2141\n",
       "drinks           1143\n",
       "fruit            2810\n",
       "spices           1351"
      ]
     },
     "execution_count": 181,
     "metadata": {},
     "output_type": "execute_result"
    }
   ],
   "source": [
    "customers_in_first_sections"
   ]
  },
  {
   "cell_type": "code",
   "execution_count": 189,
   "metadata": {},
   "outputs": [],
   "source": [
    "total_entries = sum(customers_in_first_sections[\"customer_id\"].to_list())"
   ]
  },
  {
   "cell_type": "code",
   "execution_count": 191,
   "metadata": {},
   "outputs": [
    {
     "data": {
      "text/plain": [
       "7445"
      ]
     },
     "execution_count": 191,
     "metadata": {},
     "output_type": "execute_result"
    }
   ],
   "source": [
    "total_entries"
   ]
  },
  {
   "cell_type": "code",
   "execution_count": 192,
   "metadata": {},
   "outputs": [
    {
     "data": {
      "text/html": [
       "<div><div id=da500864-6f21-41e0-9efe-17337c7de65c style=\"display:none; background-color:#9D6CFF; color:white; width:200px; height:30px; padding-left:5px; border-radius:4px; flex-direction:row; justify-content:space-around; align-items:center;\" onmouseover=\"this.style.backgroundColor='#BA9BF8'\" onmouseout=\"this.style.backgroundColor='#9D6CFF'\" onclick=\"window.commands?.execute('create-mitosheet-from-dataframe-output');\">See Full Dataframe in Mito</div> <script> if (window.commands?.hasCommand('create-mitosheet-from-dataframe-output')) document.getElementById('da500864-6f21-41e0-9efe-17337c7de65c').style.display = 'flex' </script> <table border=\"1\" class=\"dataframe\">\n",
       "  <thead>\n",
       "    <tr style=\"text-align: right;\">\n",
       "      <th></th>\n",
       "      <th>customer_id</th>\n",
       "    </tr>\n",
       "    <tr>\n",
       "      <th>location</th>\n",
       "      <th></th>\n",
       "    </tr>\n",
       "  </thead>\n",
       "  <tbody>\n",
       "    <tr>\n",
       "      <th>dairy</th>\n",
       "      <td>0.287576</td>\n",
       "    </tr>\n",
       "    <tr>\n",
       "      <th>drinks</th>\n",
       "      <td>0.153526</td>\n",
       "    </tr>\n",
       "    <tr>\n",
       "      <th>fruit</th>\n",
       "      <td>0.377435</td>\n",
       "    </tr>\n",
       "    <tr>\n",
       "      <th>spices</th>\n",
       "      <td>0.181464</td>\n",
       "    </tr>\n",
       "  </tbody>\n",
       "</table></div>"
      ],
      "text/plain": [
       "          customer_id\n",
       "location             \n",
       "dairy        0.287576\n",
       "drinks       0.153526\n",
       "fruit        0.377435\n",
       "spices       0.181464"
      ]
     },
     "execution_count": 192,
     "metadata": {},
     "output_type": "execute_result"
    }
   ],
   "source": [
    "first_probabilities = customers_in_first_sections / total_entries\n",
    "first_probabilities"
   ]
  },
  {
   "cell_type": "code",
   "execution_count": 193,
   "metadata": {},
   "outputs": [
    {
     "data": {
      "text/html": [
       "<div><div id=3a3765c2-439a-4dda-807c-c134c5ce109a style=\"display:none; background-color:#9D6CFF; color:white; width:200px; height:30px; padding-left:5px; border-radius:4px; flex-direction:row; justify-content:space-around; align-items:center;\" onmouseover=\"this.style.backgroundColor='#BA9BF8'\" onmouseout=\"this.style.backgroundColor='#9D6CFF'\" onclick=\"window.commands?.execute('create-mitosheet-from-dataframe-output');\">See Full Dataframe in Mito</div> <script> if (window.commands?.hasCommand('create-mitosheet-from-dataframe-output')) document.getElementById('3a3765c2-439a-4dda-807c-c134c5ce109a').style.display = 'flex' </script> <table border=\"1\" class=\"dataframe\">\n",
       "  <thead>\n",
       "    <tr style=\"text-align: right;\">\n",
       "      <th></th>\n",
       "      <th>customer_id</th>\n",
       "    </tr>\n",
       "    <tr>\n",
       "      <th>location</th>\n",
       "      <th></th>\n",
       "    </tr>\n",
       "  </thead>\n",
       "  <tbody>\n",
       "    <tr>\n",
       "      <th>checkout</th>\n",
       "      <td>7417</td>\n",
       "    </tr>\n",
       "    <tr>\n",
       "      <th>fruit</th>\n",
       "      <td>5122</td>\n",
       "    </tr>\n",
       "    <tr>\n",
       "      <th>dairy</th>\n",
       "      <td>4679</td>\n",
       "    </tr>\n",
       "    <tr>\n",
       "      <th>drinks</th>\n",
       "      <td>3905</td>\n",
       "    </tr>\n",
       "    <tr>\n",
       "      <th>spices</th>\n",
       "      <td>3754</td>\n",
       "    </tr>\n",
       "  </tbody>\n",
       "</table></div>"
      ],
      "text/plain": [
       "          customer_id\n",
       "location             \n",
       "checkout         7417\n",
       "fruit            5122\n",
       "dairy            4679\n",
       "drinks           3905\n",
       "spices           3754"
      ]
     },
     "execution_count": 193,
     "metadata": {},
     "output_type": "execute_result"
    }
   ],
   "source": [
    "df.groupby(\"location\")[[\"customer_id\"]].count().sort_values(\n",
    "    \"customer_id\", ascending=False\n",
    ")"
   ]
  },
  {
   "cell_type": "code",
   "execution_count": 182,
   "metadata": {},
   "outputs": [
    {
     "data": {
      "text/html": [
       "<div><div id=f98d628a-4162-4d94-91dc-bfa60361d8cc style=\"display:none; background-color:#9D6CFF; color:white; width:200px; height:30px; padding-left:5px; border-radius:4px; flex-direction:row; justify-content:space-around; align-items:center;\" onmouseover=\"this.style.backgroundColor='#BA9BF8'\" onmouseout=\"this.style.backgroundColor='#9D6CFF'\" onclick=\"window.commands?.execute('create-mitosheet-from-dataframe-output');\">See Full Dataframe in Mito</div> <script> if (window.commands?.hasCommand('create-mitosheet-from-dataframe-output')) document.getElementById('f98d628a-4162-4d94-91dc-bfa60361d8cc').style.display = 'flex' </script> <table border=\"1\" class=\"dataframe\">\n",
       "  <thead>\n",
       "    <tr style=\"text-align: right;\">\n",
       "      <th></th>\n",
       "      <th>customer_no</th>\n",
       "      <th>location</th>\n",
       "      <th>hour</th>\n",
       "      <th>time</th>\n",
       "      <th>day</th>\n",
       "      <th>customer_id</th>\n",
       "      <th>section_order</th>\n",
       "      <th>timestamp</th>\n",
       "    </tr>\n",
       "  </thead>\n",
       "  <tbody>\n",
       "    <tr>\n",
       "      <th>24877</th>\n",
       "      <td>1532</td>\n",
       "      <td>checkout</td>\n",
       "      <td>NaN</td>\n",
       "      <td>NaN</td>\n",
       "      <td>NaN</td>\n",
       "      <td>NaN</td>\n",
       "      <td>NaN</td>\n",
       "      <td>2019-09-02 22:00:00</td>\n",
       "    </tr>\n",
       "    <tr>\n",
       "      <th>24878</th>\n",
       "      <td>1533</td>\n",
       "      <td>checkout</td>\n",
       "      <td>NaN</td>\n",
       "      <td>NaN</td>\n",
       "      <td>NaN</td>\n",
       "      <td>NaN</td>\n",
       "      <td>NaN</td>\n",
       "      <td>2019-09-02 22:00:00</td>\n",
       "    </tr>\n",
       "    <tr>\n",
       "      <th>24879</th>\n",
       "      <td>1527</td>\n",
       "      <td>checkout</td>\n",
       "      <td>NaN</td>\n",
       "      <td>NaN</td>\n",
       "      <td>NaN</td>\n",
       "      <td>NaN</td>\n",
       "      <td>NaN</td>\n",
       "      <td>2019-09-02 22:00:00</td>\n",
       "    </tr>\n",
       "  </tbody>\n",
       "</table></div>"
      ],
      "text/plain": [
       "       customer_no  location  hour time  day customer_id section_order  \\\n",
       "24877         1532  checkout   NaN  NaN  NaN         NaN           NaN   \n",
       "24878         1533  checkout   NaN  NaN  NaN         NaN           NaN   \n",
       "24879         1527  checkout   NaN  NaN  NaN         NaN           NaN   \n",
       "\n",
       "                 timestamp  \n",
       "24877  2019-09-02 22:00:00  \n",
       "24878  2019-09-02 22:00:00  \n",
       "24879  2019-09-02 22:00:00  "
      ]
     },
     "execution_count": 182,
     "metadata": {},
     "output_type": "execute_result"
    }
   ],
   "source": [
    "#missing customers from checkout\n",
    "checkout=set(df[df['location']=='checkout']['customer_no'].unique())\n",
    "all_customers=set(df['customer_no'].unique())\n",
    "difference=all_customers.difference(checkout)\n",
    "for customers in difference:\n",
    "    df=df.append({'timestamp':'2019-09-02 22:00:00','customer_no':customers,'location':'checkout'}, ignore_index=True)\n",
    "df[df['timestamp']=='2019-09-02 22:00:00']\n"
   ]
  },
  {
   "cell_type": "code",
   "execution_count": 183,
   "metadata": {},
   "outputs": [
    {
     "data": {
      "text/html": [
       "<div><div id=372967e6-5d32-4c63-8a92-de66f674c605 style=\"display:none; background-color:#9D6CFF; color:white; width:200px; height:30px; padding-left:5px; border-radius:4px; flex-direction:row; justify-content:space-around; align-items:center;\" onmouseover=\"this.style.backgroundColor='#BA9BF8'\" onmouseout=\"this.style.backgroundColor='#9D6CFF'\" onclick=\"window.commands?.execute('create-mitosheet-from-dataframe-output');\">See Full Dataframe in Mito</div> <script> if (window.commands?.hasCommand('create-mitosheet-from-dataframe-output')) document.getElementById('372967e6-5d32-4c63-8a92-de66f674c605').style.display = 'flex' </script> <table border=\"1\" class=\"dataframe\">\n",
       "  <thead>\n",
       "    <tr style=\"text-align: right;\">\n",
       "      <th></th>\n",
       "      <th>0</th>\n",
       "    </tr>\n",
       "  </thead>\n",
       "  <tbody>\n",
       "    <tr>\n",
       "      <th>0</th>\n",
       "      <td>1532</td>\n",
       "    </tr>\n",
       "    <tr>\n",
       "      <th>1</th>\n",
       "      <td>1533</td>\n",
       "    </tr>\n",
       "    <tr>\n",
       "      <th>2</th>\n",
       "      <td>1527</td>\n",
       "    </tr>\n",
       "  </tbody>\n",
       "</table></div>"
      ],
      "text/plain": [
       "      0\n",
       "0  1532\n",
       "1  1533\n",
       "2  1527"
      ]
     },
     "execution_count": 183,
     "metadata": {},
     "output_type": "execute_result"
    }
   ],
   "source": [
    "pd.DataFrame(difference)"
   ]
  },
  {
   "cell_type": "code",
   "execution_count": 184,
   "metadata": {},
   "outputs": [
    {
     "data": {
      "text/plain": [
       "Text(0.5, 1.0, 'Customer distribution by location')"
      ]
     },
     "execution_count": 184,
     "metadata": {},
     "output_type": "execute_result"
    },
    {
     "data": {
      "image/png": "[encoded data removed]",
      "text/plain": [
       "<Figure size 432x288 with 1 Axes>"
      ]
     },
     "metadata": {
      "needs_background": "light"
     },
     "output_type": "display_data"
    }
   ],
   "source": [
    "#barplot - Customer distribution by location\n",
    "\n",
    "df.groupby(['location'])['customer_no'].count().plot.barh()\n",
    "plt.title('Customer distribution by location')\n"
   ]
  },
  {
   "cell_type": "code",
   "execution_count": 185,
   "metadata": {},
   "outputs": [
    {
     "data": {
      "text/plain": [
       "Text(0.5, 1.0, '% of customers per section')"
      ]
     },
     "execution_count": 185,
     "metadata": {},
     "output_type": "execute_result"
    },
    {
     "data": {
      "image/png": "[encoded data removed]",
      "text/plain": [
       "<Figure size 432x288 with 1 Axes>"
      ]
     },
     "metadata": {
      "needs_background": "light"
     },
     "output_type": "display_data"
    }
   ],
   "source": [
    "#barplot - Percentage of customers per section\n",
    "cust_per_aile=df[df['location']!='checkout'].groupby(['location'])['customer_no'].count()\n",
    "cust_total=df[df['location']=='checkout'].groupby(['location'])['customer_no'].count()\n",
    "perc_cust=pd.to_numeric(cust_per_aile.values)/pd.to_numeric(cust_total.values)*100\n",
    "p=pd.concat([pd.DataFrame(perc_cust),pd.DataFrame(pd.unique(df['location'][df['location']!='checkout']))], axis=1)\n",
    "p.columns=['perc','location']\n",
    "p.set_index(\"location\", inplace=True)\n",
    "p.plot.barh()\n",
    "plt.title('% of customers per section')"
   ]
  },
  {
   "cell_type": "code",
   "execution_count": 186,
   "metadata": {},
   "outputs": [
    {
     "data": {
      "text/plain": [
       "<seaborn.axisgrid.FacetGrid at 0x7fbc7efe5b50>"
      ]
     },
     "execution_count": 186,
     "metadata": {},
     "output_type": "execute_result"
    },
    {
     "data": {
      "image/png": "[encoded data removed]",
      "text/plain": [
       "<Figure size 441.125x360 with 1 Axes>"
      ]
     },
     "metadata": {
      "needs_background": "light"
     },
     "output_type": "display_data"
    }
   ],
   "source": [
    "#barplot - number of customers in each section over time\n",
    "total_customers_time = pd.DataFrame(df.groupby([\"location\",\"hour\"])[\"customer_no\"].nunique())\n",
    "total_customers_time.reset_index(inplace=True)\n",
    "sns.relplot(x=\"hour\", y=\"customer_no\", hue=\"location\", kind=\"line\", data=total_customers_time)"
   ]
  },
  {
   "cell_type": "code",
   "execution_count": 187,
   "metadata": {},
   "outputs": [
    {
     "data": {
      "text/html": [
       "<div><div id=fbc693b5-a7d6-4946-b0d0-9ac9a7718356 style=\"display:none; background-color:#9D6CFF; color:white; width:200px; height:30px; padding-left:5px; border-radius:4px; flex-direction:row; justify-content:space-around; align-items:center;\" onmouseover=\"this.style.backgroundColor='#BA9BF8'\" onmouseout=\"this.style.backgroundColor='#9D6CFF'\" onclick=\"window.commands?.execute('create-mitosheet-from-dataframe-output');\">See Full Dataframe in Mito</div> <script> if (window.commands?.hasCommand('create-mitosheet-from-dataframe-output')) document.getElementById('fbc693b5-a7d6-4946-b0d0-9ac9a7718356').style.display = 'flex' </script> <table border=\"1\" class=\"dataframe\">\n",
       "  <thead>\n",
       "    <tr style=\"text-align: right;\">\n",
       "      <th></th>\n",
       "      <th>customer_no</th>\n",
       "      <th>location</th>\n",
       "      <th>hour</th>\n",
       "      <th>time</th>\n",
       "      <th>day</th>\n",
       "      <th>customer_id</th>\n",
       "      <th>section_order</th>\n",
       "      <th>timestamp</th>\n",
       "    </tr>\n",
       "  </thead>\n",
       "  <tbody>\n",
       "    <tr>\n",
       "      <th>0</th>\n",
       "      <td>1</td>\n",
       "      <td>dairy</td>\n",
       "      <td>7.0</td>\n",
       "      <td>07:03:00</td>\n",
       "      <td>Monday</td>\n",
       "      <td>Monday-1</td>\n",
       "      <td>first</td>\n",
       "      <td>NaN</td>\n",
       "    </tr>\n",
       "    <tr>\n",
       "      <th>1</th>\n",
       "      <td>2</td>\n",
       "      <td>dairy</td>\n",
       "      <td>7.0</td>\n",
       "      <td>07:03:00</td>\n",
       "      <td>Monday</td>\n",
       "      <td>Monday-2</td>\n",
       "      <td>first</td>\n",
       "      <td>NaN</td>\n",
       "    </tr>\n",
       "    <tr>\n",
       "      <th>2</th>\n",
       "      <td>3</td>\n",
       "      <td>dairy</td>\n",
       "      <td>7.0</td>\n",
       "      <td>07:04:00</td>\n",
       "      <td>Monday</td>\n",
       "      <td>Monday-3</td>\n",
       "      <td>first</td>\n",
       "      <td>NaN</td>\n",
       "    </tr>\n",
       "    <tr>\n",
       "      <th>3</th>\n",
       "      <td>4</td>\n",
       "      <td>dairy</td>\n",
       "      <td>7.0</td>\n",
       "      <td>07:04:00</td>\n",
       "      <td>Monday</td>\n",
       "      <td>Monday-4</td>\n",
       "      <td>first</td>\n",
       "      <td>NaN</td>\n",
       "    </tr>\n",
       "    <tr>\n",
       "      <th>4</th>\n",
       "      <td>5</td>\n",
       "      <td>spices</td>\n",
       "      <td>7.0</td>\n",
       "      <td>07:04:00</td>\n",
       "      <td>Monday</td>\n",
       "      <td>Monday-5</td>\n",
       "      <td>first</td>\n",
       "      <td>NaN</td>\n",
       "    </tr>\n",
       "  </tbody>\n",
       "</table></div>"
      ],
      "text/plain": [
       "   customer_no location  hour      time     day customer_id section_order  \\\n",
       "0            1    dairy   7.0  07:03:00  Monday    Monday-1         first   \n",
       "1            2    dairy   7.0  07:03:00  Monday    Monday-2         first   \n",
       "2            3    dairy   7.0  07:04:00  Monday    Monday-3         first   \n",
       "3            4    dairy   7.0  07:04:00  Monday    Monday-4         first   \n",
       "4            5   spices   7.0  07:04:00  Monday    Monday-5         first   \n",
       "\n",
       "  timestamp  \n",
       "0       NaN  \n",
       "1       NaN  \n",
       "2       NaN  \n",
       "3       NaN  \n",
       "4       NaN  "
      ]
     },
     "execution_count": 187,
     "metadata": {},
     "output_type": "execute_result"
    }
   ],
   "source": [
    "df.head()"
   ]
  },
  {
   "cell_type": "code",
   "execution_count": 188,
   "metadata": {},
   "outputs": [
    {
     "ename": "TypeError",
     "evalue": "Only valid with DatetimeIndex, TimedeltaIndex or PeriodIndex, but got an instance of 'Int64Index'",
     "output_type": "error",
     "traceback": [
      "\u001b[0;31m---------------------------------------------------------------------------\u001b[0m",
      "\u001b[0;31mTypeError\u001b[0m                                 Traceback (most recent call last)",
      "\u001b[1;32m/Users/jesus/Desktop/Spiced/random-rose-student-code/Project Markov MC simulation/jesus_nik_project/Project-Nikita-Jesus/Data concatenation JGR_v2.ipynb Cell 26'\u001b[0m in \u001b[0;36m<cell line: 2>\u001b[0;34m()\u001b[0m\n\u001b[1;32m      <a href='vscode-notebook-cell:/Users/jesus/Desktop/Spiced/random-rose-student-code/Project%20Markov%20MC%20simulation/jesus_nik_project/Project-Nikita-Jesus/Data%20concatenation%20JGR_v2.ipynb#ch0000011?line=0'>1</a>\u001b[0m \u001b[39m#Customer behavior at diffrent hours of the day\u001b[39;00m\n\u001b[0;32m----> <a href='vscode-notebook-cell:/Users/jesus/Desktop/Spiced/random-rose-student-code/Project%20Markov%20MC%20simulation/jesus_nik_project/Project-Nikita-Jesus/Data%20concatenation%20JGR_v2.ipynb#ch0000011?line=1'>2</a>\u001b[0m df[df[\u001b[39m'\u001b[39;49m\u001b[39mlocation\u001b[39;49m\u001b[39m'\u001b[39;49m]\u001b[39m!=\u001b[39;49m\u001b[39m\"\u001b[39;49m\u001b[39mcheckout\u001b[39;49m\u001b[39m\"\u001b[39;49m]\u001b[39m.\u001b[39;49mgroupby(\u001b[39m'\u001b[39;49m\u001b[39mlocation\u001b[39;49m\u001b[39m'\u001b[39;49m)\u001b[39m.\u001b[39;49mresample(\u001b[39m\"\u001b[39;49m\u001b[39m30T\u001b[39;49m\u001b[39m\"\u001b[39;49m)\u001b[39m.\u001b[39mnunique()[\u001b[39m'\u001b[39m\u001b[39mcustomer_no\u001b[39m\u001b[39m'\u001b[39m]\u001b[39m.\u001b[39munstack()\u001b[39m.\u001b[39mplot(legend\u001b[39m=\u001b[39m\u001b[39mFalse\u001b[39;00m)\n\u001b[1;32m      <a href='vscode-notebook-cell:/Users/jesus/Desktop/Spiced/random-rose-student-code/Project%20Markov%20MC%20simulation/jesus_nik_project/Project-Nikita-Jesus/Data%20concatenation%20JGR_v2.ipynb#ch0000011?line=2'>3</a>\u001b[0m plt\u001b[39m.\u001b[39mtitle(\u001b[39m\"\u001b[39m\u001b[39mcustomer behavior at different hours of the day\u001b[39m\u001b[39m\"\u001b[39m)\n",
      "File \u001b[0;32m~/opt/anaconda3/lib/python3.9/site-packages/pandas/core/groupby/groupby.py:2417\u001b[0m, in \u001b[0;36mGroupBy.resample\u001b[0;34m(self, rule, *args, **kwargs)\u001b[0m\n\u001b[1;32m   2319\u001b[0m \u001b[39m\"\"\"\u001b[39;00m\n\u001b[1;32m   2320\u001b[0m \u001b[39mProvide resampling when using a TimeGrouper.\u001b[39;00m\n\u001b[1;32m   2321\u001b[0m \n\u001b[0;32m   (...)\u001b[0m\n\u001b[1;32m   2413\u001b[0m \u001b[39m5   2000-01-01 00:03:00  5  1\u001b[39;00m\n\u001b[1;32m   2414\u001b[0m \u001b[39m\"\"\"\u001b[39;00m\n\u001b[1;32m   2415\u001b[0m \u001b[39mfrom\u001b[39;00m \u001b[39mpandas\u001b[39;00m\u001b[39m.\u001b[39;00m\u001b[39mcore\u001b[39;00m\u001b[39m.\u001b[39;00m\u001b[39mresample\u001b[39;00m \u001b[39mimport\u001b[39;00m get_resampler_for_grouping\n\u001b[0;32m-> 2417\u001b[0m \u001b[39mreturn\u001b[39;00m get_resampler_for_grouping(\u001b[39mself\u001b[39;49m, rule, \u001b[39m*\u001b[39;49margs, \u001b[39m*\u001b[39;49m\u001b[39m*\u001b[39;49mkwargs)\n",
      "File \u001b[0;32m~/opt/anaconda3/lib/python3.9/site-packages/pandas/core/resample.py:1437\u001b[0m, in \u001b[0;36mget_resampler_for_grouping\u001b[0;34m(groupby, rule, how, fill_method, limit, kind, on, **kwargs)\u001b[0m\n\u001b[1;32m   1435\u001b[0m \u001b[39m# .resample uses 'on' similar to how .groupby uses 'key'\u001b[39;00m\n\u001b[1;32m   1436\u001b[0m tg \u001b[39m=\u001b[39m TimeGrouper(freq\u001b[39m=\u001b[39mrule, key\u001b[39m=\u001b[39mon, \u001b[39m*\u001b[39m\u001b[39m*\u001b[39mkwargs)\n\u001b[0;32m-> 1437\u001b[0m resampler \u001b[39m=\u001b[39m tg\u001b[39m.\u001b[39;49m_get_resampler(groupby\u001b[39m.\u001b[39;49mobj, kind\u001b[39m=\u001b[39;49mkind)\n\u001b[1;32m   1438\u001b[0m \u001b[39mreturn\u001b[39;00m resampler\u001b[39m.\u001b[39m_get_resampler_for_grouping(groupby\u001b[39m=\u001b[39mgroupby)\n",
      "File \u001b[0;32m~/opt/anaconda3/lib/python3.9/site-packages/pandas/core/resample.py:1599\u001b[0m, in \u001b[0;36mTimeGrouper._get_resampler\u001b[0;34m(self, obj, kind)\u001b[0m\n\u001b[1;32m   1596\u001b[0m \u001b[39melif\u001b[39;00m \u001b[39misinstance\u001b[39m(ax, TimedeltaIndex):\n\u001b[1;32m   1597\u001b[0m     \u001b[39mreturn\u001b[39;00m TimedeltaIndexResampler(obj, groupby\u001b[39m=\u001b[39m\u001b[39mself\u001b[39m, axis\u001b[39m=\u001b[39m\u001b[39mself\u001b[39m\u001b[39m.\u001b[39maxis)\n\u001b[0;32m-> 1599\u001b[0m \u001b[39mraise\u001b[39;00m \u001b[39mTypeError\u001b[39;00m(\n\u001b[1;32m   1600\u001b[0m     \u001b[39m\"\u001b[39m\u001b[39mOnly valid with DatetimeIndex, \u001b[39m\u001b[39m\"\u001b[39m\n\u001b[1;32m   1601\u001b[0m     \u001b[39m\"\u001b[39m\u001b[39mTimedeltaIndex or PeriodIndex, \u001b[39m\u001b[39m\"\u001b[39m\n\u001b[1;32m   1602\u001b[0m     \u001b[39mf\u001b[39m\u001b[39m\"\u001b[39m\u001b[39mbut got an instance of \u001b[39m\u001b[39m'\u001b[39m\u001b[39m{\u001b[39;00m\u001b[39mtype\u001b[39m(ax)\u001b[39m.\u001b[39m\u001b[39m__name__\u001b[39m\u001b[39m}\u001b[39;00m\u001b[39m'\u001b[39m\u001b[39m\"\u001b[39m\n\u001b[1;32m   1603\u001b[0m )\n",
      "\u001b[0;31mTypeError\u001b[0m: Only valid with DatetimeIndex, TimedeltaIndex or PeriodIndex, but got an instance of 'Int64Index'"
     ]
    }
   ],
   "source": [
    "#Customer behavior at diffrent hours of the day\n",
    "df[df['location']!=\"checkout\"].groupby('location').resample(\"30T\").nunique()['customer_no'].unstack().plot(legend=False)\n",
    "plt.title(\"customer behavior at different hours of the day\")"
   ]
  },
  {
   "cell_type": "code",
   "execution_count": null,
   "metadata": {},
   "outputs": [],
   "source": [
    "df.reset_index(inplace=True)\n",
    "df[df['location']==\"checkout\"].groupby(\"location\").resample(\"15T\").nunique()['customer_no'].reset_index().set_index(\"timestamp\").plot()\n",
    "plt.title(\"Amount of people at the checkout in an 15mins interval\")"
   ]
  },
  {
   "cell_type": "code",
   "execution_count": null,
   "metadata": {},
   "outputs": [],
   "source": [
    "df['diff'] = df.sort_values(['customer_no','timestamp']).groupby('customer_no')['timestamp'].diff()\n",
    "df[df['diff'].notnull()][['customer_no','diff']].groupby('diff').nunique()['customer_no'].reset_index().set_index('diff').plot.bar()\n",
    "plt.tite('How much time do customers spend in the market?')"
   ]
  },
  {
   "cell_type": "code",
   "execution_count": null,
   "metadata": {},
   "outputs": [],
   "source": [
    "# Amount spent by each customer\n",
    "df[df[\"diff\"].notnull()][[\"customer_no\",\"diff\"]]"
   ]
  },
  {
   "cell_type": "code",
   "execution_count": null,
   "metadata": {},
   "outputs": [],
   "source": [
    "df.resample(\"15T\").nunique()[\"customer_no\"].plot()\n",
    "plt.title(\"Total customer numbers inside the market over time\")"
   ]
  },
  {
   "cell_type": "code",
   "execution_count": null,
   "metadata": {},
   "outputs": [],
   "source": [
    "df[\"customer_no\"].nunique()\n",
    "#1535 unique customers = max. nr of customers in a day"
   ]
  },
  {
   "cell_type": "code",
   "execution_count": null,
   "metadata": {},
   "outputs": [],
   "source": []
  },
  {
   "cell_type": "code",
   "execution_count": null,
   "metadata": {},
   "outputs": [],
   "source": []
  },
  {
   "cell_type": "code",
   "execution_count": null,
   "metadata": {},
   "outputs": [],
   "source": [
    "df = pd.get_dummies(df, columns=['location'])\n",
    "df['location_checkout'].sum()\n",
    "df['location_dairy'].sum()\n",
    "df['location_drinks'].sum()\n",
    "df['location_fruit'].sum()\n",
    "df['location_spices'].sum()"
   ]
  },
  {
   "cell_type": "code",
   "execution_count": null,
   "metadata": {},
   "outputs": [],
   "source": [
    "# #missing customers from checkout\n",
    "# checkout=set(data[data[\"location\"]==\"checkout\"][\"customer_no\"].unique())\n",
    "# all_c=set(data[\"customer_no\"].unique())\n",
    "# diff=all_c.difference(checkout)\n",
    "# for cust in diff:\n",
    "#                data=data.append({\"timestamp\":\"2019-09-02 22:00:00\",\"customer_no\":'cust', 'location':\"checkout\"}, ignore_index=True)\n",
    "#      data[data[\"timestamp\"]==\"2019-09-02 22:00:00\"]"
   ]
  },
  {
   "cell_type": "code",
   "execution_count": null,
   "metadata": {},
   "outputs": [],
   "source": [
    "# df = pd.DataFrame()\n",
    "#days = ['friday', 'thursday', 'wednesday', 'tuesday', 'monday']\n",
    "# for day in days:\n",
    "#     df = pd.concat([pd.read_csv(f'data/{day}.csv', sep=';'), df])"
   ]
  },
  {
   "cell_type": "code",
   "execution_count": null,
   "metadata": {},
   "outputs": [],
   "source": []
  },
  {
   "cell_type": "code",
   "execution_count": null,
   "metadata": {},
   "outputs": [],
   "source": []
  },
  {
   "cell_type": "code",
   "execution_count": null,
   "metadata": {},
   "outputs": [],
   "source": []
  }
 ],
 "metadata": {
  "kernelspec": {
   "display_name": "Python 3 (ipykernel)",
   "language": "python",
   "name": "python3"
  },
  "language_info": {
   "codemirror_mode": {
    "name": "ipython",
    "version": 3
   },
   "file_extension": ".py",
   "mimetype": "text/x-python",
   "name": "python",
   "nbconvert_exporter": "python",
   "pygments_lexer": "ipython3",
   "version": "3.9.12"
  },
  "vscode": {
   "interpreter": {
    "hash": "55930a29ab98b98d7282727545d9c42f71ba15d2e48ec5021e2a446cd51044f3"
   }
  }
 },
 "nbformat": 4,
 "nbformat_minor": 2
}
